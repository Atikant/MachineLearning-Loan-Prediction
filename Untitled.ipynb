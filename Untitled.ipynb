{
 "cells": [
  {
   "cell_type": "code",
   "execution_count": 1,
   "metadata": {},
   "outputs": [],
   "source": [
    "import pandas as pd\n",
    "import numpy as np\n",
    "from sklearn.impute import SimpleImputer\n",
    "import seaborn as sns\n",
    "from sklearn.model_selection import train_test_split\n",
    "from sklearn.linear_model import LogisticRegression\n",
    "from sklearn.metrics import f1_score\n",
    "from sklearn.metrics import confusion_matrix\n",
    "import matplotlib.pyplot as plt\n",
    "from sklearn.metrics import roc_curve,roc_auc_score\n",
    "from sklearn.metrics import accuracy_score, classification_report\n",
    "from sklearn.ensemble import RandomForestClassifier\n",
    "from keras.models import Sequential\n",
    "from keras.layers import Dense\n",
    "from keras.callbacks import EarlyStopping"
   ]
  },
  {
   "cell_type": "code",
   "execution_count": 2,
   "metadata": {},
   "outputs": [
    {
     "data": {
      "text/html": [
       "<div>\n",
       "<style scoped>\n",
       "    .dataframe tbody tr th:only-of-type {\n",
       "        vertical-align: middle;\n",
       "    }\n",
       "\n",
       "    .dataframe tbody tr th {\n",
       "        vertical-align: top;\n",
       "    }\n",
       "\n",
       "    .dataframe thead th {\n",
       "        text-align: right;\n",
       "    }\n",
       "</style>\n",
       "<table border=\"1\" class=\"dataframe\">\n",
       "  <thead>\n",
       "    <tr style=\"text-align: right;\">\n",
       "      <th></th>\n",
       "      <th>Loan_ID</th>\n",
       "      <th>Gender</th>\n",
       "      <th>Married</th>\n",
       "      <th>Dependents</th>\n",
       "      <th>Education</th>\n",
       "      <th>Self_Employed</th>\n",
       "      <th>ApplicantIncome</th>\n",
       "      <th>CoapplicantIncome</th>\n",
       "      <th>LoanAmount</th>\n",
       "      <th>Loan_Amount_Term</th>\n",
       "      <th>Credit_History</th>\n",
       "      <th>Property_Area</th>\n",
       "      <th>Loan_Status</th>\n",
       "    </tr>\n",
       "  </thead>\n",
       "  <tbody>\n",
       "    <tr>\n",
       "      <th>0</th>\n",
       "      <td>LP001002</td>\n",
       "      <td>Male</td>\n",
       "      <td>No</td>\n",
       "      <td>0</td>\n",
       "      <td>Graduate</td>\n",
       "      <td>No</td>\n",
       "      <td>5849</td>\n",
       "      <td>0.0</td>\n",
       "      <td>NaN</td>\n",
       "      <td>360.0</td>\n",
       "      <td>1.0</td>\n",
       "      <td>Urban</td>\n",
       "      <td>Y</td>\n",
       "    </tr>\n",
       "    <tr>\n",
       "      <th>1</th>\n",
       "      <td>LP001003</td>\n",
       "      <td>Male</td>\n",
       "      <td>Yes</td>\n",
       "      <td>1</td>\n",
       "      <td>Graduate</td>\n",
       "      <td>No</td>\n",
       "      <td>4583</td>\n",
       "      <td>1508.0</td>\n",
       "      <td>128.0</td>\n",
       "      <td>360.0</td>\n",
       "      <td>1.0</td>\n",
       "      <td>Rural</td>\n",
       "      <td>N</td>\n",
       "    </tr>\n",
       "    <tr>\n",
       "      <th>2</th>\n",
       "      <td>LP001005</td>\n",
       "      <td>Male</td>\n",
       "      <td>Yes</td>\n",
       "      <td>0</td>\n",
       "      <td>Graduate</td>\n",
       "      <td>Yes</td>\n",
       "      <td>3000</td>\n",
       "      <td>0.0</td>\n",
       "      <td>66.0</td>\n",
       "      <td>360.0</td>\n",
       "      <td>1.0</td>\n",
       "      <td>Urban</td>\n",
       "      <td>Y</td>\n",
       "    </tr>\n",
       "    <tr>\n",
       "      <th>3</th>\n",
       "      <td>LP001006</td>\n",
       "      <td>Male</td>\n",
       "      <td>Yes</td>\n",
       "      <td>0</td>\n",
       "      <td>Not Graduate</td>\n",
       "      <td>No</td>\n",
       "      <td>2583</td>\n",
       "      <td>2358.0</td>\n",
       "      <td>120.0</td>\n",
       "      <td>360.0</td>\n",
       "      <td>1.0</td>\n",
       "      <td>Urban</td>\n",
       "      <td>Y</td>\n",
       "    </tr>\n",
       "    <tr>\n",
       "      <th>4</th>\n",
       "      <td>LP001008</td>\n",
       "      <td>Male</td>\n",
       "      <td>No</td>\n",
       "      <td>0</td>\n",
       "      <td>Graduate</td>\n",
       "      <td>No</td>\n",
       "      <td>6000</td>\n",
       "      <td>0.0</td>\n",
       "      <td>141.0</td>\n",
       "      <td>360.0</td>\n",
       "      <td>1.0</td>\n",
       "      <td>Urban</td>\n",
       "      <td>Y</td>\n",
       "    </tr>\n",
       "  </tbody>\n",
       "</table>\n",
       "</div>"
      ],
      "text/plain": [
       "    Loan_ID Gender Married Dependents     Education Self_Employed  \\\n",
       "0  LP001002   Male      No          0      Graduate            No   \n",
       "1  LP001003   Male     Yes          1      Graduate            No   \n",
       "2  LP001005   Male     Yes          0      Graduate           Yes   \n",
       "3  LP001006   Male     Yes          0  Not Graduate            No   \n",
       "4  LP001008   Male      No          0      Graduate            No   \n",
       "\n",
       "   ApplicantIncome  CoapplicantIncome  LoanAmount  Loan_Amount_Term  \\\n",
       "0             5849                0.0         NaN             360.0   \n",
       "1             4583             1508.0       128.0             360.0   \n",
       "2             3000                0.0        66.0             360.0   \n",
       "3             2583             2358.0       120.0             360.0   \n",
       "4             6000                0.0       141.0             360.0   \n",
       "\n",
       "   Credit_History Property_Area Loan_Status  \n",
       "0             1.0         Urban           Y  \n",
       "1             1.0         Rural           N  \n",
       "2             1.0         Urban           Y  \n",
       "3             1.0         Urban           Y  \n",
       "4             1.0         Urban           Y  "
      ]
     },
     "execution_count": 2,
     "metadata": {},
     "output_type": "execute_result"
    }
   ],
   "source": [
    "#reading the data set\n",
    "df = pd.read_csv(\"./loan_data_set.csv\",  delimiter=',')\n",
    "df.head()"
   ]
  },
  {
   "cell_type": "code",
   "execution_count": 3,
   "metadata": {},
   "outputs": [
    {
     "data": {
      "text/plain": [
       "(614, 13)"
      ]
     },
     "execution_count": 3,
     "metadata": {},
     "output_type": "execute_result"
    }
   ],
   "source": [
    "# dimension\n",
    "df.shape"
   ]
  },
  {
   "cell_type": "code",
   "execution_count": 4,
   "metadata": {},
   "outputs": [
    {
     "data": {
      "text/plain": [
       "Y    422\n",
       "N    192\n",
       "Name: Loan_Status, dtype: int64"
      ]
     },
     "execution_count": 4,
     "metadata": {},
     "output_type": "execute_result"
    }
   ],
   "source": [
    "#Checking the number of zeroes and ones\n",
    "df.Loan_Status.value_counts()"
   ]
  },
  {
   "cell_type": "code",
   "execution_count": 5,
   "metadata": {},
   "outputs": [
    {
     "data": {
      "text/plain": [
       "Loan_ID               0\n",
       "Gender               13\n",
       "Married               3\n",
       "Dependents           15\n",
       "Education             0\n",
       "Self_Employed        32\n",
       "ApplicantIncome       0\n",
       "CoapplicantIncome     0\n",
       "LoanAmount           22\n",
       "Loan_Amount_Term     14\n",
       "Credit_History       50\n",
       "Property_Area         0\n",
       "Loan_Status           0\n",
       "dtype: int64"
      ]
     },
     "execution_count": 5,
     "metadata": {},
     "output_type": "execute_result"
    }
   ],
   "source": [
    "# finding null values\n",
    "df.isnull().sum()"
   ]
  },
  {
   "cell_type": "code",
   "execution_count": 6,
   "metadata": {},
   "outputs": [],
   "source": [
    "imp=SimpleImputer(missing_values=np.NaN, strategy=\"most_frequent\")\n",
    "temp=imp.fit_transform(df)\n",
    "ip_data=pd.DataFrame(data=temp,columns=df.columns)\n"
   ]
  },
  {
   "cell_type": "code",
   "execution_count": 7,
   "metadata": {},
   "outputs": [
    {
     "data": {
      "text/html": [
       "<div>\n",
       "<style scoped>\n",
       "    .dataframe tbody tr th:only-of-type {\n",
       "        vertical-align: middle;\n",
       "    }\n",
       "\n",
       "    .dataframe tbody tr th {\n",
       "        vertical-align: top;\n",
       "    }\n",
       "\n",
       "    .dataframe thead th {\n",
       "        text-align: right;\n",
       "    }\n",
       "</style>\n",
       "<table border=\"1\" class=\"dataframe\">\n",
       "  <thead>\n",
       "    <tr style=\"text-align: right;\">\n",
       "      <th></th>\n",
       "      <th>Loan_ID</th>\n",
       "      <th>Gender</th>\n",
       "      <th>Married</th>\n",
       "      <th>Dependents</th>\n",
       "      <th>Education</th>\n",
       "      <th>Self_Employed</th>\n",
       "      <th>ApplicantIncome</th>\n",
       "      <th>CoapplicantIncome</th>\n",
       "      <th>LoanAmount</th>\n",
       "      <th>Loan_Amount_Term</th>\n",
       "      <th>Credit_History</th>\n",
       "      <th>Property_Area</th>\n",
       "      <th>Loan_Status</th>\n",
       "    </tr>\n",
       "  </thead>\n",
       "  <tbody>\n",
       "    <tr>\n",
       "      <th>0</th>\n",
       "      <td>LP001002</td>\n",
       "      <td>Male</td>\n",
       "      <td>No</td>\n",
       "      <td>0</td>\n",
       "      <td>Graduate</td>\n",
       "      <td>No</td>\n",
       "      <td>5849</td>\n",
       "      <td>0</td>\n",
       "      <td>120</td>\n",
       "      <td>360</td>\n",
       "      <td>1</td>\n",
       "      <td>Urban</td>\n",
       "      <td>Y</td>\n",
       "    </tr>\n",
       "    <tr>\n",
       "      <th>1</th>\n",
       "      <td>LP001003</td>\n",
       "      <td>Male</td>\n",
       "      <td>Yes</td>\n",
       "      <td>1</td>\n",
       "      <td>Graduate</td>\n",
       "      <td>No</td>\n",
       "      <td>4583</td>\n",
       "      <td>1508</td>\n",
       "      <td>128</td>\n",
       "      <td>360</td>\n",
       "      <td>1</td>\n",
       "      <td>Rural</td>\n",
       "      <td>N</td>\n",
       "    </tr>\n",
       "    <tr>\n",
       "      <th>2</th>\n",
       "      <td>LP001005</td>\n",
       "      <td>Male</td>\n",
       "      <td>Yes</td>\n",
       "      <td>0</td>\n",
       "      <td>Graduate</td>\n",
       "      <td>Yes</td>\n",
       "      <td>3000</td>\n",
       "      <td>0</td>\n",
       "      <td>66</td>\n",
       "      <td>360</td>\n",
       "      <td>1</td>\n",
       "      <td>Urban</td>\n",
       "      <td>Y</td>\n",
       "    </tr>\n",
       "    <tr>\n",
       "      <th>3</th>\n",
       "      <td>LP001006</td>\n",
       "      <td>Male</td>\n",
       "      <td>Yes</td>\n",
       "      <td>0</td>\n",
       "      <td>Not Graduate</td>\n",
       "      <td>No</td>\n",
       "      <td>2583</td>\n",
       "      <td>2358</td>\n",
       "      <td>120</td>\n",
       "      <td>360</td>\n",
       "      <td>1</td>\n",
       "      <td>Urban</td>\n",
       "      <td>Y</td>\n",
       "    </tr>\n",
       "    <tr>\n",
       "      <th>4</th>\n",
       "      <td>LP001008</td>\n",
       "      <td>Male</td>\n",
       "      <td>No</td>\n",
       "      <td>0</td>\n",
       "      <td>Graduate</td>\n",
       "      <td>No</td>\n",
       "      <td>6000</td>\n",
       "      <td>0</td>\n",
       "      <td>141</td>\n",
       "      <td>360</td>\n",
       "      <td>1</td>\n",
       "      <td>Urban</td>\n",
       "      <td>Y</td>\n",
       "    </tr>\n",
       "  </tbody>\n",
       "</table>\n",
       "</div>"
      ],
      "text/plain": [
       "    Loan_ID Gender Married Dependents     Education Self_Employed  \\\n",
       "0  LP001002   Male      No          0      Graduate            No   \n",
       "1  LP001003   Male     Yes          1      Graduate            No   \n",
       "2  LP001005   Male     Yes          0      Graduate           Yes   \n",
       "3  LP001006   Male     Yes          0  Not Graduate            No   \n",
       "4  LP001008   Male      No          0      Graduate            No   \n",
       "\n",
       "  ApplicantIncome CoapplicantIncome LoanAmount Loan_Amount_Term  \\\n",
       "0            5849                 0        120              360   \n",
       "1            4583              1508        128              360   \n",
       "2            3000                 0         66              360   \n",
       "3            2583              2358        120              360   \n",
       "4            6000                 0        141              360   \n",
       "\n",
       "  Credit_History Property_Area Loan_Status  \n",
       "0              1         Urban           Y  \n",
       "1              1         Rural           N  \n",
       "2              1         Urban           Y  \n",
       "3              1         Urban           Y  \n",
       "4              1         Urban           Y  "
      ]
     },
     "execution_count": 7,
     "metadata": {},
     "output_type": "execute_result"
    }
   ],
   "source": [
    "ip_data.head()"
   ]
  },
  {
   "cell_type": "code",
   "execution_count": 8,
   "metadata": {},
   "outputs": [
    {
     "data": {
      "text/plain": [
       "Loan_ID              0\n",
       "Gender               0\n",
       "Married              0\n",
       "Dependents           0\n",
       "Education            0\n",
       "Self_Employed        0\n",
       "ApplicantIncome      0\n",
       "CoapplicantIncome    0\n",
       "LoanAmount           0\n",
       "Loan_Amount_Term     0\n",
       "Credit_History       0\n",
       "Property_Area        0\n",
       "Loan_Status          0\n",
       "dtype: int64"
      ]
     },
     "execution_count": 8,
     "metadata": {},
     "output_type": "execute_result"
    }
   ],
   "source": [
    "#Again checking for the null data\n",
    "ip_data.isnull().sum()\n"
   ]
  },
  {
   "cell_type": "markdown",
   "metadata": {},
   "source": [
    "## visualizing the data"
   ]
  },
  {
   "cell_type": "code",
   "execution_count": 9,
   "metadata": {},
   "outputs": [
    {
     "data": {
      "text/plain": [
       "<AxesSubplot:xlabel='count', ylabel='Gender'>"
      ]
     },
     "execution_count": 9,
     "metadata": {},
     "output_type": "execute_result"
    },
    {
     "data": {
      "image/png": "[encoded data removed]",
      "text/plain": [
       "<Figure size 432x288 with 1 Axes>"
      ]
     },
     "metadata": {
      "needs_background": "light"
     },
     "output_type": "display_data"
    }
   ],
   "source": [
    "# Relation of Gender and Loan_Status\n",
    "sns.countplot(y='Gender',hue='Loan_Status',data=ip_data)"
   ]
  },
  {
   "cell_type": "code",
   "execution_count": 10,
   "metadata": {},
   "outputs": [
    {
     "data": {
      "text/plain": [
       "<AxesSubplot:xlabel='count', ylabel='Married'>"
      ]
     },
     "execution_count": 10,
     "metadata": {},
     "output_type": "execute_result"
    },
    {
     "data": {
      "image/png": "[encoded data removed]",
      "text/plain": [
       "<Figure size 432x288 with 1 Axes>"
      ]
     },
     "metadata": {
      "needs_background": "light"
     },
     "output_type": "display_data"
    }
   ],
   "source": [
    "# Relation of Married status and Loan_Status\n",
    "sns.countplot(y='Married',hue='Loan_Status',data=ip_data)"
   ]
  },
  {
   "cell_type": "code",
   "execution_count": 11,
   "metadata": {},
   "outputs": [
    {
     "data": {
      "text/plain": [
       "<AxesSubplot:xlabel='count', ylabel='Education'>"
      ]
     },
     "execution_count": 11,
     "metadata": {},
     "output_type": "execute_result"
    },
    {
     "data": {
      "image/png": "[encoded data removed]",
      "text/plain": [
       "<Figure size 432x288 with 1 Axes>"
      ]
     },
     "metadata": {
      "needs_background": "light"
     },
     "output_type": "display_data"
    }
   ],
   "source": [
    "# Relation of Education and Loan_Status\n",
    "sns.countplot(y='Education',hue='Loan_Status',data=ip_data)"
   ]
  },
  {
   "cell_type": "code",
   "execution_count": 12,
   "metadata": {},
   "outputs": [
    {
     "data": {
      "text/plain": [
       "<AxesSubplot:xlabel='count', ylabel='Self_Employed'>"
      ]
     },
     "execution_count": 12,
     "metadata": {},
     "output_type": "execute_result"
    },
    {
     "data": {
      "image/png": "[encoded data removed]",
      "text/plain": [
       "<Figure size 432x288 with 1 Axes>"
      ]
     },
     "metadata": {
      "needs_background": "light"
     },
     "output_type": "display_data"
    }
   ],
   "source": [
    "# Relation of Employement status and Loan_Status\n",
    "sns.countplot(y='Self_Employed',hue='Loan_Status',data=ip_data)"
   ]
  },
  {
   "cell_type": "code",
   "execution_count": 13,
   "metadata": {},
   "outputs": [
    {
     "data": {
      "text/plain": [
       "<AxesSubplot:xlabel='count', ylabel='Credit_History'>"
      ]
     },
     "execution_count": 13,
     "metadata": {},
     "output_type": "execute_result"
    },
    {
     "data": {
      "image/png": "[encoded data removed]",
      "text/plain": [
       "<Figure size 432x288 with 1 Axes>"
      ]
     },
     "metadata": {
      "needs_background": "light"
     },
     "output_type": "display_data"
    }
   ],
   "source": [
    "# Relation of Credit_History and Loan_Status\n",
    "sns.countplot(y='Credit_History',hue='Loan_Status',data=ip_data)"
   ]
  },
  {
   "cell_type": "code",
   "execution_count": 14,
   "metadata": {},
   "outputs": [
    {
     "data": {
      "text/plain": [
       "<AxesSubplot:xlabel='count', ylabel='Loan_Amount_Term'>"
      ]
     },
     "execution_count": 14,
     "metadata": {},
     "output_type": "execute_result"
    },
    {
     "data": {
      "image/png": "[encoded data removed]",
      "text/plain": [
       "<Figure size 432x288 with 1 Axes>"
      ]
     },
     "metadata": {
      "needs_background": "light"
     },
     "output_type": "display_data"
    }
   ],
   "source": [
    "# Relation of Loan_Amount_Term and Loan_Status\n",
    "sns.countplot(y='Loan_Amount_Term',hue='Loan_Status',data=ip_data)"
   ]
  },
  {
   "cell_type": "code",
   "execution_count": 15,
   "metadata": {},
   "outputs": [
    {
     "data": {
      "text/plain": [
       "<AxesSubplot:xlabel='count', ylabel='Property_Area'>"
      ]
     },
     "execution_count": 15,
     "metadata": {},
     "output_type": "execute_result"
    },
    {
     "data": {
      "image/png": "[encoded data removed]",
      "text/plain": [
       "<Figure size 432x288 with 1 Axes>"
      ]
     },
     "metadata": {
      "needs_background": "light"
     },
     "output_type": "display_data"
    }
   ],
   "source": [
    "# Relation of Property_Area and Loan_Status\n",
    "sns.countplot(y='Property_Area',hue='Loan_Status',data=ip_data)"
   ]
  },
  {
   "cell_type": "code",
   "execution_count": 16,
   "metadata": {},
   "outputs": [],
   "source": [
    "#Transforming the data for better analysis\n",
    "\n",
    "ip_data['Gender']=ip_data['Gender'].map({'Male':1,'Female':0})\n",
    "ip_data['Property_Area']=ip_data['Property_Area'].map({'Urban':1,'Rural':2,'Semiurban':3})\n",
    "ip_data['Married']=ip_data['Married'].map({'Yes':1,'No':0})\n",
    "ip_data['Self_Employed']=ip_data['Self_Employed'].map({'Yes':1,'No':0})\n",
    "ip_data['Loan_Status']=ip_data['Loan_Status'].map({'Y':1,'N':0})\n",
    "ip_data['Education']=ip_data['Education'].map({'Graduate':1,'Not Graduate':0})\n",
    "ip_data['Dependents']=ip_data['Dependents'].map({'0':0,'1':1,'2':2,'3+':3})"
   ]
  },
  {
   "cell_type": "code",
   "execution_count": 17,
   "metadata": {},
   "outputs": [
    {
     "data": {
      "text/html": [
       "<div>\n",
       "<style scoped>\n",
       "    .dataframe tbody tr th:only-of-type {\n",
       "        vertical-align: middle;\n",
       "    }\n",
       "\n",
       "    .dataframe tbody tr th {\n",
       "        vertical-align: top;\n",
       "    }\n",
       "\n",
       "    .dataframe thead th {\n",
       "        text-align: right;\n",
       "    }\n",
       "</style>\n",
       "<table border=\"1\" class=\"dataframe\">\n",
       "  <thead>\n",
       "    <tr style=\"text-align: right;\">\n",
       "      <th></th>\n",
       "      <th>Loan_ID</th>\n",
       "      <th>Gender</th>\n",
       "      <th>Married</th>\n",
       "      <th>Dependents</th>\n",
       "      <th>Education</th>\n",
       "      <th>Self_Employed</th>\n",
       "      <th>ApplicantIncome</th>\n",
       "      <th>CoapplicantIncome</th>\n",
       "      <th>LoanAmount</th>\n",
       "      <th>Loan_Amount_Term</th>\n",
       "      <th>Credit_History</th>\n",
       "      <th>Property_Area</th>\n",
       "      <th>Loan_Status</th>\n",
       "    </tr>\n",
       "  </thead>\n",
       "  <tbody>\n",
       "    <tr>\n",
       "      <th>0</th>\n",
       "      <td>LP001002</td>\n",
       "      <td>1</td>\n",
       "      <td>0</td>\n",
       "      <td>0</td>\n",
       "      <td>1</td>\n",
       "      <td>0</td>\n",
       "      <td>5849</td>\n",
       "      <td>0</td>\n",
       "      <td>120</td>\n",
       "      <td>360</td>\n",
       "      <td>1</td>\n",
       "      <td>1</td>\n",
       "      <td>1</td>\n",
       "    </tr>\n",
       "    <tr>\n",
       "      <th>1</th>\n",
       "      <td>LP001003</td>\n",
       "      <td>1</td>\n",
       "      <td>1</td>\n",
       "      <td>1</td>\n",
       "      <td>1</td>\n",
       "      <td>0</td>\n",
       "      <td>4583</td>\n",
       "      <td>1508</td>\n",
       "      <td>128</td>\n",
       "      <td>360</td>\n",
       "      <td>1</td>\n",
       "      <td>2</td>\n",
       "      <td>0</td>\n",
       "    </tr>\n",
       "    <tr>\n",
       "      <th>2</th>\n",
       "      <td>LP001005</td>\n",
       "      <td>1</td>\n",
       "      <td>1</td>\n",
       "      <td>0</td>\n",
       "      <td>1</td>\n",
       "      <td>1</td>\n",
       "      <td>3000</td>\n",
       "      <td>0</td>\n",
       "      <td>66</td>\n",
       "      <td>360</td>\n",
       "      <td>1</td>\n",
       "      <td>1</td>\n",
       "      <td>1</td>\n",
       "    </tr>\n",
       "    <tr>\n",
       "      <th>3</th>\n",
       "      <td>LP001006</td>\n",
       "      <td>1</td>\n",
       "      <td>1</td>\n",
       "      <td>0</td>\n",
       "      <td>0</td>\n",
       "      <td>0</td>\n",
       "      <td>2583</td>\n",
       "      <td>2358</td>\n",
       "      <td>120</td>\n",
       "      <td>360</td>\n",
       "      <td>1</td>\n",
       "      <td>1</td>\n",
       "      <td>1</td>\n",
       "    </tr>\n",
       "    <tr>\n",
       "      <th>4</th>\n",
       "      <td>LP001008</td>\n",
       "      <td>1</td>\n",
       "      <td>0</td>\n",
       "      <td>0</td>\n",
       "      <td>1</td>\n",
       "      <td>0</td>\n",
       "      <td>6000</td>\n",
       "      <td>0</td>\n",
       "      <td>141</td>\n",
       "      <td>360</td>\n",
       "      <td>1</td>\n",
       "      <td>1</td>\n",
       "      <td>1</td>\n",
       "    </tr>\n",
       "  </tbody>\n",
       "</table>\n",
       "</div>"
      ],
      "text/plain": [
       "    Loan_ID  Gender  Married  Dependents  Education  Self_Employed  \\\n",
       "0  LP001002       1        0           0          1              0   \n",
       "1  LP001003       1        1           1          1              0   \n",
       "2  LP001005       1        1           0          1              1   \n",
       "3  LP001006       1        1           0          0              0   \n",
       "4  LP001008       1        0           0          1              0   \n",
       "\n",
       "  ApplicantIncome CoapplicantIncome LoanAmount Loan_Amount_Term  \\\n",
       "0            5849                 0        120              360   \n",
       "1            4583              1508        128              360   \n",
       "2            3000                 0         66              360   \n",
       "3            2583              2358        120              360   \n",
       "4            6000                 0        141              360   \n",
       "\n",
       "  Credit_History  Property_Area  Loan_Status  \n",
       "0              1              1            1  \n",
       "1              1              2            0  \n",
       "2              1              1            1  \n",
       "3              1              1            1  \n",
       "4              1              1            1  "
      ]
     },
     "execution_count": 17,
     "metadata": {},
     "output_type": "execute_result"
    }
   ],
   "source": [
    "ip_data.head()"
   ]
  },
  {
   "cell_type": "code",
   "execution_count": 18,
   "metadata": {},
   "outputs": [
    {
     "name": "stdout",
     "output_type": "stream",
     "text": [
      "<class 'pandas.core.frame.DataFrame'>\n",
      "RangeIndex: 614 entries, 0 to 613\n",
      "Data columns (total 13 columns):\n",
      " #   Column             Non-Null Count  Dtype \n",
      "---  ------             --------------  ----- \n",
      " 0   Loan_ID            614 non-null    object\n",
      " 1   Gender             614 non-null    int64 \n",
      " 2   Married            614 non-null    int64 \n",
      " 3   Dependents         614 non-null    int64 \n",
      " 4   Education          614 non-null    int64 \n",
      " 5   Self_Employed      614 non-null    int64 \n",
      " 6   ApplicantIncome    614 non-null    object\n",
      " 7   CoapplicantIncome  614 non-null    object\n",
      " 8   LoanAmount         614 non-null    object\n",
      " 9   Loan_Amount_Term   614 non-null    object\n",
      " 10  Credit_History     614 non-null    object\n",
      " 11  Property_Area      614 non-null    int64 \n",
      " 12  Loan_Status        614 non-null    int64 \n",
      "dtypes: int64(7), object(6)\n",
      "memory usage: 62.5+ KB\n"
     ]
    }
   ],
   "source": [
    "ip_data.info()"
   ]
  },
  {
   "cell_type": "code",
   "execution_count": 19,
   "metadata": {},
   "outputs": [],
   "source": [
    "ip_data['Credit_History']=pd.to_numeric(ip_data.Credit_History)\n",
    "ip_data['Loan_Amount_Term']=pd.to_numeric(ip_data.Loan_Amount_Term)\n",
    "ip_data['CoapplicantIncome']=pd.to_numeric(ip_data.CoapplicantIncome)\n",
    "ip_data['ApplicantIncome']=pd.to_numeric(ip_data.ApplicantIncome)"
   ]
  },
  {
   "cell_type": "code",
   "execution_count": 20,
   "metadata": {},
   "outputs": [
    {
     "data": {
      "text/plain": [
       "<AxesSubplot:>"
      ]
     },
     "execution_count": 20,
     "metadata": {},
     "output_type": "execute_result"
    },
    {
     "data": {
      "image/png": "[encoded data removed]",
      "text/plain": [
       "<Figure size 432x288 with 2 Axes>"
      ]
     },
     "metadata": {
      "needs_background": "light"
     },
     "output_type": "display_data"
    }
   ],
   "source": [
    "#correlation in the data set\n",
    "sns.heatmap(ip_data.corr())"
   ]
  },
  {
   "cell_type": "code",
   "execution_count": 21,
   "metadata": {},
   "outputs": [
    {
     "data": {
      "text/html": [
       "<style  type=\"text/css\" >\n",
       "#T_87688e9f_5cda_11eb_ac7f_60f262b65606row0_col0,#T_87688e9f_5cda_11eb_ac7f_60f262b65606row1_col1,#T_87688e9f_5cda_11eb_ac7f_60f262b65606row2_col2,#T_87688e9f_5cda_11eb_ac7f_60f262b65606row3_col3,#T_87688e9f_5cda_11eb_ac7f_60f262b65606row4_col4,#T_87688e9f_5cda_11eb_ac7f_60f262b65606row5_col5,#T_87688e9f_5cda_11eb_ac7f_60f262b65606row6_col6,#T_87688e9f_5cda_11eb_ac7f_60f262b65606row7_col7,#T_87688e9f_5cda_11eb_ac7f_60f262b65606row8_col8,#T_87688e9f_5cda_11eb_ac7f_60f262b65606row9_col9,#T_87688e9f_5cda_11eb_ac7f_60f262b65606row10_col10{\n",
       "            background-color:  #b40426;\n",
       "            color:  #f1f1f1;\n",
       "        }#T_87688e9f_5cda_11eb_ac7f_60f262b65606row0_col1{\n",
       "            background-color:  #c7d7f0;\n",
       "            color:  #000000;\n",
       "        }#T_87688e9f_5cda_11eb_ac7f_60f262b65606row0_col2{\n",
       "            background-color:  #8db0fe;\n",
       "            color:  #000000;\n",
       "        }#T_87688e9f_5cda_11eb_ac7f_60f262b65606row0_col3{\n",
       "            background-color:  #3d50c3;\n",
       "            color:  #f1f1f1;\n",
       "        }#T_87688e9f_5cda_11eb_ac7f_60f262b65606row0_col4,#T_87688e9f_5cda_11eb_ac7f_60f262b65606row3_col0,#T_87688e9f_5cda_11eb_ac7f_60f262b65606row7_col8,#T_87688e9f_5cda_11eb_ac7f_60f262b65606row7_col10{\n",
       "            background-color:  #445acc;\n",
       "            color:  #f1f1f1;\n",
       "        }#T_87688e9f_5cda_11eb_ac7f_60f262b65606row0_col5{\n",
       "            background-color:  #6c8ff1;\n",
       "            color:  #000000;\n",
       "        }#T_87688e9f_5cda_11eb_ac7f_60f262b65606row0_col6{\n",
       "            background-color:  #7396f5;\n",
       "            color:  #000000;\n",
       "        }#T_87688e9f_5cda_11eb_ac7f_60f262b65606row0_col7{\n",
       "            background-color:  #4257c9;\n",
       "            color:  #f1f1f1;\n",
       "        }#T_87688e9f_5cda_11eb_ac7f_60f262b65606row0_col8,#T_87688e9f_5cda_11eb_ac7f_60f262b65606row1_col8,#T_87688e9f_5cda_11eb_ac7f_60f262b65606row6_col8,#T_87688e9f_5cda_11eb_ac7f_60f262b65606row6_col9{\n",
       "            background-color:  #4961d2;\n",
       "            color:  #f1f1f1;\n",
       "        }#T_87688e9f_5cda_11eb_ac7f_60f262b65606row0_col9,#T_87688e9f_5cda_11eb_ac7f_60f262b65606row1_col7,#T_87688e9f_5cda_11eb_ac7f_60f262b65606row2_col3,#T_87688e9f_5cda_11eb_ac7f_60f262b65606row2_col7,#T_87688e9f_5cda_11eb_ac7f_60f262b65606row2_col8,#T_87688e9f_5cda_11eb_ac7f_60f262b65606row5_col6,#T_87688e9f_5cda_11eb_ac7f_60f262b65606row6_col5,#T_87688e9f_5cda_11eb_ac7f_60f262b65606row6_col10,#T_87688e9f_5cda_11eb_ac7f_60f262b65606row7_col1,#T_87688e9f_5cda_11eb_ac7f_60f262b65606row7_col2,#T_87688e9f_5cda_11eb_ac7f_60f262b65606row7_col4,#T_87688e9f_5cda_11eb_ac7f_60f262b65606row9_col0{\n",
       "            background-color:  #3b4cc0;\n",
       "            color:  #f1f1f1;\n",
       "        }#T_87688e9f_5cda_11eb_ac7f_60f262b65606row0_col10,#T_87688e9f_5cda_11eb_ac7f_60f262b65606row10_col7{\n",
       "            background-color:  #506bda;\n",
       "            color:  #000000;\n",
       "        }#T_87688e9f_5cda_11eb_ac7f_60f262b65606row1_col0{\n",
       "            background-color:  #c4d5f3;\n",
       "            color:  #000000;\n",
       "        }#T_87688e9f_5cda_11eb_ac7f_60f262b65606row1_col2,#T_87688e9f_5cda_11eb_ac7f_60f262b65606row2_col1{\n",
       "            background-color:  #bfd3f6;\n",
       "            color:  #000000;\n",
       "        }#T_87688e9f_5cda_11eb_ac7f_60f262b65606row1_col3,#T_87688e9f_5cda_11eb_ac7f_60f262b65606row3_col4,#T_87688e9f_5cda_11eb_ac7f_60f262b65606row6_col7{\n",
       "            background-color:  #465ecf;\n",
       "            color:  #f1f1f1;\n",
       "        }#T_87688e9f_5cda_11eb_ac7f_60f262b65606row1_col4,#T_87688e9f_5cda_11eb_ac7f_60f262b65606row4_col8{\n",
       "            background-color:  #455cce;\n",
       "            color:  #f1f1f1;\n",
       "        }#T_87688e9f_5cda_11eb_ac7f_60f262b65606row1_col5{\n",
       "            background-color:  #6a8bef;\n",
       "            color:  #000000;\n",
       "        }#T_87688e9f_5cda_11eb_ac7f_60f262b65606row1_col6,#T_87688e9f_5cda_11eb_ac7f_60f262b65606row9_col7,#T_87688e9f_5cda_11eb_ac7f_60f262b65606row10_col1{\n",
       "            background-color:  #7295f4;\n",
       "            color:  #000000;\n",
       "        }#T_87688e9f_5cda_11eb_ac7f_60f262b65606row1_col9,#T_87688e9f_5cda_11eb_ac7f_60f262b65606row3_col1,#T_87688e9f_5cda_11eb_ac7f_60f262b65606row3_col9,#T_87688e9f_5cda_11eb_ac7f_60f262b65606row9_col6{\n",
       "            background-color:  #536edd;\n",
       "            color:  #000000;\n",
       "        }#T_87688e9f_5cda_11eb_ac7f_60f262b65606row1_col10{\n",
       "            background-color:  #6788ee;\n",
       "            color:  #000000;\n",
       "        }#T_87688e9f_5cda_11eb_ac7f_60f262b65606row2_col0{\n",
       "            background-color:  #88abfd;\n",
       "            color:  #000000;\n",
       "        }#T_87688e9f_5cda_11eb_ac7f_60f262b65606row2_col4,#T_87688e9f_5cda_11eb_ac7f_60f262b65606row8_col5,#T_87688e9f_5cda_11eb_ac7f_60f262b65606row8_col7{\n",
       "            background-color:  #5572df;\n",
       "            color:  #000000;\n",
       "        }#T_87688e9f_5cda_11eb_ac7f_60f262b65606row2_col5{\n",
       "            background-color:  #7ea1fa;\n",
       "            color:  #000000;\n",
       "        }#T_87688e9f_5cda_11eb_ac7f_60f262b65606row2_col6,#T_87688e9f_5cda_11eb_ac7f_60f262b65606row5_col0{\n",
       "            background-color:  #6384eb;\n",
       "            color:  #000000;\n",
       "        }#T_87688e9f_5cda_11eb_ac7f_60f262b65606row2_col9,#T_87688e9f_5cda_11eb_ac7f_60f262b65606row4_col0{\n",
       "            background-color:  #516ddb;\n",
       "            color:  #000000;\n",
       "        }#T_87688e9f_5cda_11eb_ac7f_60f262b65606row2_col10,#T_87688e9f_5cda_11eb_ac7f_60f262b65606row4_col3,#T_87688e9f_5cda_11eb_ac7f_60f262b65606row4_col7,#T_87688e9f_5cda_11eb_ac7f_60f262b65606row7_col5{\n",
       "            background-color:  #4e68d8;\n",
       "            color:  #000000;\n",
       "        }#T_87688e9f_5cda_11eb_ac7f_60f262b65606row3_col2{\n",
       "            background-color:  #485fd1;\n",
       "            color:  #f1f1f1;\n",
       "        }#T_87688e9f_5cda_11eb_ac7f_60f262b65606row3_col5{\n",
       "            background-color:  #86a9fc;\n",
       "            color:  #000000;\n",
       "        }#T_87688e9f_5cda_11eb_ac7f_60f262b65606row3_col6,#T_87688e9f_5cda_11eb_ac7f_60f262b65606row3_col7,#T_87688e9f_5cda_11eb_ac7f_60f262b65606row6_col1{\n",
       "            background-color:  #6e90f2;\n",
       "            color:  #000000;\n",
       "        }#T_87688e9f_5cda_11eb_ac7f_60f262b65606row3_col8,#T_87688e9f_5cda_11eb_ac7f_60f262b65606row6_col3{\n",
       "            background-color:  #5d7ce6;\n",
       "            color:  #000000;\n",
       "        }#T_87688e9f_5cda_11eb_ac7f_60f262b65606row3_col10,#T_87688e9f_5cda_11eb_ac7f_60f262b65606row5_col1{\n",
       "            background-color:  #6687ed;\n",
       "            color:  #000000;\n",
       "        }#T_87688e9f_5cda_11eb_ac7f_60f262b65606row4_col1,#T_87688e9f_5cda_11eb_ac7f_60f262b65606row4_col9,#T_87688e9f_5cda_11eb_ac7f_60f262b65606row9_col1,#T_87688e9f_5cda_11eb_ac7f_60f262b65606row9_col2,#T_87688e9f_5cda_11eb_ac7f_60f262b65606row9_col5{\n",
       "            background-color:  #5875e1;\n",
       "            color:  #000000;\n",
       "        }#T_87688e9f_5cda_11eb_ac7f_60f262b65606row4_col2{\n",
       "            background-color:  #688aef;\n",
       "            color:  #000000;\n",
       "        }#T_87688e9f_5cda_11eb_ac7f_60f262b65606row4_col5{\n",
       "            background-color:  #81a4fb;\n",
       "            color:  #000000;\n",
       "        }#T_87688e9f_5cda_11eb_ac7f_60f262b65606row4_col6,#T_87688e9f_5cda_11eb_ac7f_60f262b65606row10_col0{\n",
       "            background-color:  #5673e0;\n",
       "            color:  #000000;\n",
       "        }#T_87688e9f_5cda_11eb_ac7f_60f262b65606row4_col10,#T_87688e9f_5cda_11eb_ac7f_60f262b65606row5_col7,#T_87688e9f_5cda_11eb_ac7f_60f262b65606row5_col10,#T_87688e9f_5cda_11eb_ac7f_60f262b65606row7_col6,#T_87688e9f_5cda_11eb_ac7f_60f262b65606row9_col4,#T_87688e9f_5cda_11eb_ac7f_60f262b65606row10_col6{\n",
       "            background-color:  #4a63d3;\n",
       "            color:  #f1f1f1;\n",
       "        }#T_87688e9f_5cda_11eb_ac7f_60f262b65606row5_col2{\n",
       "            background-color:  #7b9ff9;\n",
       "            color:  #000000;\n",
       "        }#T_87688e9f_5cda_11eb_ac7f_60f262b65606row5_col3{\n",
       "            background-color:  #7699f6;\n",
       "            color:  #000000;\n",
       "        }#T_87688e9f_5cda_11eb_ac7f_60f262b65606row5_col4,#T_87688e9f_5cda_11eb_ac7f_60f262b65606row6_col0,#T_87688e9f_5cda_11eb_ac7f_60f262b65606row7_col9,#T_87688e9f_5cda_11eb_ac7f_60f262b65606row9_col10{\n",
       "            background-color:  #6b8df0;\n",
       "            color:  #000000;\n",
       "        }#T_87688e9f_5cda_11eb_ac7f_60f262b65606row5_col8{\n",
       "            background-color:  #4055c8;\n",
       "            color:  #f1f1f1;\n",
       "        }#T_87688e9f_5cda_11eb_ac7f_60f262b65606row5_col9,#T_87688e9f_5cda_11eb_ac7f_60f262b65606row9_col8{\n",
       "            background-color:  #4f69d9;\n",
       "            color:  #000000;\n",
       "        }#T_87688e9f_5cda_11eb_ac7f_60f262b65606row6_col2,#T_87688e9f_5cda_11eb_ac7f_60f262b65606row7_col3,#T_87688e9f_5cda_11eb_ac7f_60f262b65606row8_col3{\n",
       "            background-color:  #6180e9;\n",
       "            color:  #000000;\n",
       "        }#T_87688e9f_5cda_11eb_ac7f_60f262b65606row6_col4{\n",
       "            background-color:  #3f53c6;\n",
       "            color:  #f1f1f1;\n",
       "        }#T_87688e9f_5cda_11eb_ac7f_60f262b65606row7_col0{\n",
       "            background-color:  #3c4ec2;\n",
       "            color:  #f1f1f1;\n",
       "        }#T_87688e9f_5cda_11eb_ac7f_60f262b65606row8_col0{\n",
       "            background-color:  #5470de;\n",
       "            color:  #000000;\n",
       "        }#T_87688e9f_5cda_11eb_ac7f_60f262b65606row8_col1,#T_87688e9f_5cda_11eb_ac7f_60f262b65606row8_col9,#T_87688e9f_5cda_11eb_ac7f_60f262b65606row10_col2{\n",
       "            background-color:  #5a78e4;\n",
       "            color:  #000000;\n",
       "        }#T_87688e9f_5cda_11eb_ac7f_60f262b65606row8_col2,#T_87688e9f_5cda_11eb_ac7f_60f262b65606row9_col3{\n",
       "            background-color:  #4b64d5;\n",
       "            color:  #f1f1f1;\n",
       "        }#T_87688e9f_5cda_11eb_ac7f_60f262b65606row8_col4,#T_87688e9f_5cda_11eb_ac7f_60f262b65606row10_col4{\n",
       "            background-color:  #4358cb;\n",
       "            color:  #f1f1f1;\n",
       "        }#T_87688e9f_5cda_11eb_ac7f_60f262b65606row8_col6{\n",
       "            background-color:  #5e7de7;\n",
       "            color:  #000000;\n",
       "        }#T_87688e9f_5cda_11eb_ac7f_60f262b65606row8_col10{\n",
       "            background-color:  #ecd3c5;\n",
       "            color:  #000000;\n",
       "        }#T_87688e9f_5cda_11eb_ac7f_60f262b65606row10_col3{\n",
       "            background-color:  #6485ec;\n",
       "            color:  #000000;\n",
       "        }#T_87688e9f_5cda_11eb_ac7f_60f262b65606row10_col5{\n",
       "            background-color:  #5977e3;\n",
       "            color:  #000000;\n",
       "        }#T_87688e9f_5cda_11eb_ac7f_60f262b65606row10_col8{\n",
       "            background-color:  #ead4c8;\n",
       "            color:  #000000;\n",
       "        }#T_87688e9f_5cda_11eb_ac7f_60f262b65606row10_col9{\n",
       "            background-color:  #7093f3;\n",
       "            color:  #000000;\n",
       "        }</style><table id=\"T_87688e9f_5cda_11eb_ac7f_60f262b65606\" ><thead>    <tr>        <th class=\"blank level0\" ></th>        <th class=\"col_heading level0 col0\" >Gender</th>        <th class=\"col_heading level0 col1\" >Married</th>        <th class=\"col_heading level0 col2\" >Dependents</th>        <th class=\"col_heading level0 col3\" >Education</th>        <th class=\"col_heading level0 col4\" >Self_Employed</th>        <th class=\"col_heading level0 col5\" >ApplicantIncome</th>        <th class=\"col_heading level0 col6\" >CoapplicantIncome</th>        <th class=\"col_heading level0 col7\" >Loan_Amount_Term</th>        <th class=\"col_heading level0 col8\" >Credit_History</th>        <th class=\"col_heading level0 col9\" >Property_Area</th>        <th class=\"col_heading level0 col10\" >Loan_Status</th>    </tr></thead><tbody>\n",
       "                <tr>\n",
       "                        <th id=\"T_87688e9f_5cda_11eb_ac7f_60f262b65606level0_row0\" class=\"row_heading level0 row0\" >Gender</th>\n",
       "                        <td id=\"T_87688e9f_5cda_11eb_ac7f_60f262b65606row0_col0\" class=\"data row0 col0\" >1.000000</td>\n",
       "                        <td id=\"T_87688e9f_5cda_11eb_ac7f_60f262b65606row0_col1\" class=\"data row0 col1\" >0.364569</td>\n",
       "                        <td id=\"T_87688e9f_5cda_11eb_ac7f_60f262b65606row0_col2\" class=\"data row0 col2\" >0.172914</td>\n",
       "                        <td id=\"T_87688e9f_5cda_11eb_ac7f_60f262b65606row0_col3\" class=\"data row0 col3\" >-0.045364</td>\n",
       "                        <td id=\"T_87688e9f_5cda_11eb_ac7f_60f262b65606row0_col4\" class=\"data row0 col4\" >-0.000525</td>\n",
       "                        <td id=\"T_87688e9f_5cda_11eb_ac7f_60f262b65606row0_col5\" class=\"data row0 col5\" >0.058809</td>\n",
       "                        <td id=\"T_87688e9f_5cda_11eb_ac7f_60f262b65606row0_col6\" class=\"data row0 col6\" >0.082912</td>\n",
       "                        <td id=\"T_87688e9f_5cda_11eb_ac7f_60f262b65606row0_col7\" class=\"data row0 col7\" >-0.074030</td>\n",
       "                        <td id=\"T_87688e9f_5cda_11eb_ac7f_60f262b65606row0_col8\" class=\"data row0 col8\" >0.009170</td>\n",
       "                        <td id=\"T_87688e9f_5cda_11eb_ac7f_60f262b65606row0_col9\" class=\"data row0 col9\" >-0.082045</td>\n",
       "                        <td id=\"T_87688e9f_5cda_11eb_ac7f_60f262b65606row0_col10\" class=\"data row0 col10\" >0.017987</td>\n",
       "            </tr>\n",
       "            <tr>\n",
       "                        <th id=\"T_87688e9f_5cda_11eb_ac7f_60f262b65606level0_row1\" class=\"row_heading level0 row1\" >Married</th>\n",
       "                        <td id=\"T_87688e9f_5cda_11eb_ac7f_60f262b65606row1_col0\" class=\"data row1 col0\" >0.364569</td>\n",
       "                        <td id=\"T_87688e9f_5cda_11eb_ac7f_60f262b65606row1_col1\" class=\"data row1 col1\" >1.000000</td>\n",
       "                        <td id=\"T_87688e9f_5cda_11eb_ac7f_60f262b65606row1_col2\" class=\"data row1 col2\" >0.334216</td>\n",
       "                        <td id=\"T_87688e9f_5cda_11eb_ac7f_60f262b65606row1_col3\" class=\"data row1 col3\" >-0.012304</td>\n",
       "                        <td id=\"T_87688e9f_5cda_11eb_ac7f_60f262b65606row1_col4\" class=\"data row1 col4\" >0.004489</td>\n",
       "                        <td id=\"T_87688e9f_5cda_11eb_ac7f_60f262b65606row1_col5\" class=\"data row1 col5\" >0.051708</td>\n",
       "                        <td id=\"T_87688e9f_5cda_11eb_ac7f_60f262b65606row1_col6\" class=\"data row1 col6\" >0.075948</td>\n",
       "                        <td id=\"T_87688e9f_5cda_11eb_ac7f_60f262b65606row1_col7\" class=\"data row1 col7\" >-0.100912</td>\n",
       "                        <td id=\"T_87688e9f_5cda_11eb_ac7f_60f262b65606row1_col8\" class=\"data row1 col8\" >0.010938</td>\n",
       "                        <td id=\"T_87688e9f_5cda_11eb_ac7f_60f262b65606row1_col9\" class=\"data row1 col9\" >0.003071</td>\n",
       "                        <td id=\"T_87688e9f_5cda_11eb_ac7f_60f262b65606row1_col10\" class=\"data row1 col10\" >0.091478</td>\n",
       "            </tr>\n",
       "            <tr>\n",
       "                        <th id=\"T_87688e9f_5cda_11eb_ac7f_60f262b65606level0_row2\" class=\"row_heading level0 row2\" >Dependents</th>\n",
       "                        <td id=\"T_87688e9f_5cda_11eb_ac7f_60f262b65606row2_col0\" class=\"data row2 col0\" >0.172914</td>\n",
       "                        <td id=\"T_87688e9f_5cda_11eb_ac7f_60f262b65606row2_col1\" class=\"data row2 col1\" >0.334216</td>\n",
       "                        <td id=\"T_87688e9f_5cda_11eb_ac7f_60f262b65606row2_col2\" class=\"data row2 col2\" >1.000000</td>\n",
       "                        <td id=\"T_87688e9f_5cda_11eb_ac7f_60f262b65606row2_col3\" class=\"data row2 col3\" >-0.055752</td>\n",
       "                        <td id=\"T_87688e9f_5cda_11eb_ac7f_60f262b65606row2_col4\" class=\"data row2 col4\" >0.056798</td>\n",
       "                        <td id=\"T_87688e9f_5cda_11eb_ac7f_60f262b65606row2_col5\" class=\"data row2 col5\" >0.118202</td>\n",
       "                        <td id=\"T_87688e9f_5cda_11eb_ac7f_60f262b65606row2_col6\" class=\"data row2 col6\" >0.030430</td>\n",
       "                        <td id=\"T_87688e9f_5cda_11eb_ac7f_60f262b65606row2_col7\" class=\"data row2 col7\" >-0.103864</td>\n",
       "                        <td id=\"T_87688e9f_5cda_11eb_ac7f_60f262b65606row2_col8\" class=\"data row2 col8\" >-0.040160</td>\n",
       "                        <td id=\"T_87688e9f_5cda_11eb_ac7f_60f262b65606row2_col9\" class=\"data row2 col9\" >0.001781</td>\n",
       "                        <td id=\"T_87688e9f_5cda_11eb_ac7f_60f262b65606row2_col10\" class=\"data row2 col10\" >0.010118</td>\n",
       "            </tr>\n",
       "            <tr>\n",
       "                        <th id=\"T_87688e9f_5cda_11eb_ac7f_60f262b65606level0_row3\" class=\"row_heading level0 row3\" >Education</th>\n",
       "                        <td id=\"T_87688e9f_5cda_11eb_ac7f_60f262b65606row3_col0\" class=\"data row3 col0\" >-0.045364</td>\n",
       "                        <td id=\"T_87688e9f_5cda_11eb_ac7f_60f262b65606row3_col1\" class=\"data row3 col1\" >-0.012304</td>\n",
       "                        <td id=\"T_87688e9f_5cda_11eb_ac7f_60f262b65606row3_col2\" class=\"data row3 col2\" >-0.055752</td>\n",
       "                        <td id=\"T_87688e9f_5cda_11eb_ac7f_60f262b65606row3_col3\" class=\"data row3 col3\" >1.000000</td>\n",
       "                        <td id=\"T_87688e9f_5cda_11eb_ac7f_60f262b65606row3_col4\" class=\"data row3 col4\" >0.010383</td>\n",
       "                        <td id=\"T_87688e9f_5cda_11eb_ac7f_60f262b65606row3_col5\" class=\"data row3 col5\" >0.140760</td>\n",
       "                        <td id=\"T_87688e9f_5cda_11eb_ac7f_60f262b65606row3_col6\" class=\"data row3 col6\" >0.062290</td>\n",
       "                        <td id=\"T_87688e9f_5cda_11eb_ac7f_60f262b65606row3_col7\" class=\"data row3 col7\" >0.073928</td>\n",
       "                        <td id=\"T_87688e9f_5cda_11eb_ac7f_60f262b65606row3_col8\" class=\"data row3 col8\" >0.073658</td>\n",
       "                        <td id=\"T_87688e9f_5cda_11eb_ac7f_60f262b65606row3_col9\" class=\"data row3 col9\" >0.003592</td>\n",
       "                        <td id=\"T_87688e9f_5cda_11eb_ac7f_60f262b65606row3_col10\" class=\"data row3 col10\" >0.085884</td>\n",
       "            </tr>\n",
       "            <tr>\n",
       "                        <th id=\"T_87688e9f_5cda_11eb_ac7f_60f262b65606level0_row4\" class=\"row_heading level0 row4\" >Self_Employed</th>\n",
       "                        <td id=\"T_87688e9f_5cda_11eb_ac7f_60f262b65606row4_col0\" class=\"data row4 col0\" >-0.000525</td>\n",
       "                        <td id=\"T_87688e9f_5cda_11eb_ac7f_60f262b65606row4_col1\" class=\"data row4 col1\" >0.004489</td>\n",
       "                        <td id=\"T_87688e9f_5cda_11eb_ac7f_60f262b65606row4_col2\" class=\"data row4 col2\" >0.056798</td>\n",
       "                        <td id=\"T_87688e9f_5cda_11eb_ac7f_60f262b65606row4_col3\" class=\"data row4 col3\" >0.010383</td>\n",
       "                        <td id=\"T_87688e9f_5cda_11eb_ac7f_60f262b65606row4_col4\" class=\"data row4 col4\" >1.000000</td>\n",
       "                        <td id=\"T_87688e9f_5cda_11eb_ac7f_60f262b65606row4_col5\" class=\"data row4 col5\" >0.127180</td>\n",
       "                        <td id=\"T_87688e9f_5cda_11eb_ac7f_60f262b65606row4_col6\" class=\"data row4 col6\" >-0.016100</td>\n",
       "                        <td id=\"T_87688e9f_5cda_11eb_ac7f_60f262b65606row4_col7\" class=\"data row4 col7\" >-0.033739</td>\n",
       "                        <td id=\"T_87688e9f_5cda_11eb_ac7f_60f262b65606row4_col8\" class=\"data row4 col8\" >-0.001550</td>\n",
       "                        <td id=\"T_87688e9f_5cda_11eb_ac7f_60f262b65606row4_col9\" class=\"data row4 col9\" >0.021996</td>\n",
       "                        <td id=\"T_87688e9f_5cda_11eb_ac7f_60f262b65606row4_col10\" class=\"data row4 col10\" >-0.003700</td>\n",
       "            </tr>\n",
       "            <tr>\n",
       "                        <th id=\"T_87688e9f_5cda_11eb_ac7f_60f262b65606level0_row5\" class=\"row_heading level0 row5\" >ApplicantIncome</th>\n",
       "                        <td id=\"T_87688e9f_5cda_11eb_ac7f_60f262b65606row5_col0\" class=\"data row5 col0\" >0.058809</td>\n",
       "                        <td id=\"T_87688e9f_5cda_11eb_ac7f_60f262b65606row5_col1\" class=\"data row5 col1\" >0.051708</td>\n",
       "                        <td id=\"T_87688e9f_5cda_11eb_ac7f_60f262b65606row5_col2\" class=\"data row5 col2\" >0.118202</td>\n",
       "                        <td id=\"T_87688e9f_5cda_11eb_ac7f_60f262b65606row5_col3\" class=\"data row5 col3\" >0.140760</td>\n",
       "                        <td id=\"T_87688e9f_5cda_11eb_ac7f_60f262b65606row5_col4\" class=\"data row5 col4\" >0.127180</td>\n",
       "                        <td id=\"T_87688e9f_5cda_11eb_ac7f_60f262b65606row5_col5\" class=\"data row5 col5\" >1.000000</td>\n",
       "                        <td id=\"T_87688e9f_5cda_11eb_ac7f_60f262b65606row5_col6\" class=\"data row5 col6\" >-0.116605</td>\n",
       "                        <td id=\"T_87688e9f_5cda_11eb_ac7f_60f262b65606row5_col7\" class=\"data row5 col7\" >-0.046531</td>\n",
       "                        <td id=\"T_87688e9f_5cda_11eb_ac7f_60f262b65606row5_col8\" class=\"data row5 col8\" >-0.018615</td>\n",
       "                        <td id=\"T_87688e9f_5cda_11eb_ac7f_60f262b65606row5_col9\" class=\"data row5 col9\" >-0.007894</td>\n",
       "                        <td id=\"T_87688e9f_5cda_11eb_ac7f_60f262b65606row5_col10\" class=\"data row5 col10\" >-0.004710</td>\n",
       "            </tr>\n",
       "            <tr>\n",
       "                        <th id=\"T_87688e9f_5cda_11eb_ac7f_60f262b65606level0_row6\" class=\"row_heading level0 row6\" >CoapplicantIncome</th>\n",
       "                        <td id=\"T_87688e9f_5cda_11eb_ac7f_60f262b65606row6_col0\" class=\"data row6 col0\" >0.082912</td>\n",
       "                        <td id=\"T_87688e9f_5cda_11eb_ac7f_60f262b65606row6_col1\" class=\"data row6 col1\" >0.075948</td>\n",
       "                        <td id=\"T_87688e9f_5cda_11eb_ac7f_60f262b65606row6_col2\" class=\"data row6 col2\" >0.030430</td>\n",
       "                        <td id=\"T_87688e9f_5cda_11eb_ac7f_60f262b65606row6_col3\" class=\"data row6 col3\" >0.062290</td>\n",
       "                        <td id=\"T_87688e9f_5cda_11eb_ac7f_60f262b65606row6_col4\" class=\"data row6 col4\" >-0.016100</td>\n",
       "                        <td id=\"T_87688e9f_5cda_11eb_ac7f_60f262b65606row6_col5\" class=\"data row6 col5\" >-0.116605</td>\n",
       "                        <td id=\"T_87688e9f_5cda_11eb_ac7f_60f262b65606row6_col6\" class=\"data row6 col6\" >1.000000</td>\n",
       "                        <td id=\"T_87688e9f_5cda_11eb_ac7f_60f262b65606row6_col7\" class=\"data row6 col7\" >-0.059383</td>\n",
       "                        <td id=\"T_87688e9f_5cda_11eb_ac7f_60f262b65606row6_col8\" class=\"data row6 col8\" >0.011134</td>\n",
       "                        <td id=\"T_87688e9f_5cda_11eb_ac7f_60f262b65606row6_col9\" class=\"data row6 col9\" >-0.028356</td>\n",
       "                        <td id=\"T_87688e9f_5cda_11eb_ac7f_60f262b65606row6_col10\" class=\"data row6 col10\" >-0.059187</td>\n",
       "            </tr>\n",
       "            <tr>\n",
       "                        <th id=\"T_87688e9f_5cda_11eb_ac7f_60f262b65606level0_row7\" class=\"row_heading level0 row7\" >Loan_Amount_Term</th>\n",
       "                        <td id=\"T_87688e9f_5cda_11eb_ac7f_60f262b65606row7_col0\" class=\"data row7 col0\" >-0.074030</td>\n",
       "                        <td id=\"T_87688e9f_5cda_11eb_ac7f_60f262b65606row7_col1\" class=\"data row7 col1\" >-0.100912</td>\n",
       "                        <td id=\"T_87688e9f_5cda_11eb_ac7f_60f262b65606row7_col2\" class=\"data row7 col2\" >-0.103864</td>\n",
       "                        <td id=\"T_87688e9f_5cda_11eb_ac7f_60f262b65606row7_col3\" class=\"data row7 col3\" >0.073928</td>\n",
       "                        <td id=\"T_87688e9f_5cda_11eb_ac7f_60f262b65606row7_col4\" class=\"data row7 col4\" >-0.033739</td>\n",
       "                        <td id=\"T_87688e9f_5cda_11eb_ac7f_60f262b65606row7_col5\" class=\"data row7 col5\" >-0.046531</td>\n",
       "                        <td id=\"T_87688e9f_5cda_11eb_ac7f_60f262b65606row7_col6\" class=\"data row7 col6\" >-0.059383</td>\n",
       "                        <td id=\"T_87688e9f_5cda_11eb_ac7f_60f262b65606row7_col7\" class=\"data row7 col7\" >1.000000</td>\n",
       "                        <td id=\"T_87688e9f_5cda_11eb_ac7f_60f262b65606row7_col8\" class=\"data row7 col8\" >-0.004705</td>\n",
       "                        <td id=\"T_87688e9f_5cda_11eb_ac7f_60f262b65606row7_col9\" class=\"data row7 col9\" >0.086879</td>\n",
       "                        <td id=\"T_87688e9f_5cda_11eb_ac7f_60f262b65606row7_col10\" class=\"data row7 col10\" >-0.022549</td>\n",
       "            </tr>\n",
       "            <tr>\n",
       "                        <th id=\"T_87688e9f_5cda_11eb_ac7f_60f262b65606level0_row8\" class=\"row_heading level0 row8\" >Credit_History</th>\n",
       "                        <td id=\"T_87688e9f_5cda_11eb_ac7f_60f262b65606row8_col0\" class=\"data row8 col0\" >0.009170</td>\n",
       "                        <td id=\"T_87688e9f_5cda_11eb_ac7f_60f262b65606row8_col1\" class=\"data row8 col1\" >0.010938</td>\n",
       "                        <td id=\"T_87688e9f_5cda_11eb_ac7f_60f262b65606row8_col2\" class=\"data row8 col2\" >-0.040160</td>\n",
       "                        <td id=\"T_87688e9f_5cda_11eb_ac7f_60f262b65606row8_col3\" class=\"data row8 col3\" >0.073658</td>\n",
       "                        <td id=\"T_87688e9f_5cda_11eb_ac7f_60f262b65606row8_col4\" class=\"data row8 col4\" >-0.001550</td>\n",
       "                        <td id=\"T_87688e9f_5cda_11eb_ac7f_60f262b65606row8_col5\" class=\"data row8 col5\" >-0.018615</td>\n",
       "                        <td id=\"T_87688e9f_5cda_11eb_ac7f_60f262b65606row8_col6\" class=\"data row8 col6\" >0.011134</td>\n",
       "                        <td id=\"T_87688e9f_5cda_11eb_ac7f_60f262b65606row8_col7\" class=\"data row8 col7\" >-0.004705</td>\n",
       "                        <td id=\"T_87688e9f_5cda_11eb_ac7f_60f262b65606row8_col8\" class=\"data row8 col8\" >1.000000</td>\n",
       "                        <td id=\"T_87688e9f_5cda_11eb_ac7f_60f262b65606row8_col9\" class=\"data row8 col9\" >0.030248</td>\n",
       "                        <td id=\"T_87688e9f_5cda_11eb_ac7f_60f262b65606row8_col10\" class=\"data row8 col10\" >0.540556</td>\n",
       "            </tr>\n",
       "            <tr>\n",
       "                        <th id=\"T_87688e9f_5cda_11eb_ac7f_60f262b65606level0_row9\" class=\"row_heading level0 row9\" >Property_Area</th>\n",
       "                        <td id=\"T_87688e9f_5cda_11eb_ac7f_60f262b65606row9_col0\" class=\"data row9 col0\" >-0.082045</td>\n",
       "                        <td id=\"T_87688e9f_5cda_11eb_ac7f_60f262b65606row9_col1\" class=\"data row9 col1\" >0.003071</td>\n",
       "                        <td id=\"T_87688e9f_5cda_11eb_ac7f_60f262b65606row9_col2\" class=\"data row9 col2\" >0.001781</td>\n",
       "                        <td id=\"T_87688e9f_5cda_11eb_ac7f_60f262b65606row9_col3\" class=\"data row9 col3\" >0.003592</td>\n",
       "                        <td id=\"T_87688e9f_5cda_11eb_ac7f_60f262b65606row9_col4\" class=\"data row9 col4\" >0.021996</td>\n",
       "                        <td id=\"T_87688e9f_5cda_11eb_ac7f_60f262b65606row9_col5\" class=\"data row9 col5\" >-0.007894</td>\n",
       "                        <td id=\"T_87688e9f_5cda_11eb_ac7f_60f262b65606row9_col6\" class=\"data row9 col6\" >-0.028356</td>\n",
       "                        <td id=\"T_87688e9f_5cda_11eb_ac7f_60f262b65606row9_col7\" class=\"data row9 col7\" >0.086879</td>\n",
       "                        <td id=\"T_87688e9f_5cda_11eb_ac7f_60f262b65606row9_col8\" class=\"data row9 col8\" >0.030248</td>\n",
       "                        <td id=\"T_87688e9f_5cda_11eb_ac7f_60f262b65606row9_col9\" class=\"data row9 col9\" >1.000000</td>\n",
       "                        <td id=\"T_87688e9f_5cda_11eb_ac7f_60f262b65606row9_col10\" class=\"data row9 col10\" >0.103253</td>\n",
       "            </tr>\n",
       "            <tr>\n",
       "                        <th id=\"T_87688e9f_5cda_11eb_ac7f_60f262b65606level0_row10\" class=\"row_heading level0 row10\" >Loan_Status</th>\n",
       "                        <td id=\"T_87688e9f_5cda_11eb_ac7f_60f262b65606row10_col0\" class=\"data row10 col0\" >0.017987</td>\n",
       "                        <td id=\"T_87688e9f_5cda_11eb_ac7f_60f262b65606row10_col1\" class=\"data row10 col1\" >0.091478</td>\n",
       "                        <td id=\"T_87688e9f_5cda_11eb_ac7f_60f262b65606row10_col2\" class=\"data row10 col2\" >0.010118</td>\n",
       "                        <td id=\"T_87688e9f_5cda_11eb_ac7f_60f262b65606row10_col3\" class=\"data row10 col3\" >0.085884</td>\n",
       "                        <td id=\"T_87688e9f_5cda_11eb_ac7f_60f262b65606row10_col4\" class=\"data row10 col4\" >-0.003700</td>\n",
       "                        <td id=\"T_87688e9f_5cda_11eb_ac7f_60f262b65606row10_col5\" class=\"data row10 col5\" >-0.004710</td>\n",
       "                        <td id=\"T_87688e9f_5cda_11eb_ac7f_60f262b65606row10_col6\" class=\"data row10 col6\" >-0.059187</td>\n",
       "                        <td id=\"T_87688e9f_5cda_11eb_ac7f_60f262b65606row10_col7\" class=\"data row10 col7\" >-0.022549</td>\n",
       "                        <td id=\"T_87688e9f_5cda_11eb_ac7f_60f262b65606row10_col8\" class=\"data row10 col8\" >0.540556</td>\n",
       "                        <td id=\"T_87688e9f_5cda_11eb_ac7f_60f262b65606row10_col9\" class=\"data row10 col9\" >0.103253</td>\n",
       "                        <td id=\"T_87688e9f_5cda_11eb_ac7f_60f262b65606row10_col10\" class=\"data row10 col10\" >1.000000</td>\n",
       "            </tr>\n",
       "    </tbody></table>"
      ],
      "text/plain": [
       "<pandas.io.formats.style.Styler at 0x1de511dc850>"
      ]
     },
     "execution_count": 21,
     "metadata": {},
     "output_type": "execute_result"
    }
   ],
   "source": [
    "ip_data.corr().style.background_gradient(cmap='coolwarm')"
   ]
  },
  {
   "cell_type": "code",
   "execution_count": 22,
   "metadata": {},
   "outputs": [],
   "source": [
    "y = ip_data.pop('Loan_Status')\n",
    "X = ip_data"
   ]
  },
  {
   "cell_type": "code",
   "execution_count": 23,
   "metadata": {},
   "outputs": [
    {
     "data": {
      "text/plain": [
       "0      LP001002\n",
       "1      LP001003\n",
       "2      LP001005\n",
       "3      LP001006\n",
       "4      LP001008\n",
       "         ...   \n",
       "609    LP002978\n",
       "610    LP002979\n",
       "611    LP002983\n",
       "612    LP002984\n",
       "613    LP002990\n",
       "Name: Loan_ID, Length: 614, dtype: object"
      ]
     },
     "execution_count": 23,
     "metadata": {},
     "output_type": "execute_result"
    }
   ],
   "source": [
    "# Removing Loan ID as it has unique values\n",
    "X.pop('Loan_ID')"
   ]
  },
  {
   "cell_type": "code",
   "execution_count": 24,
   "metadata": {},
   "outputs": [
    {
     "data": {
      "text/html": [
       "<div>\n",
       "<style scoped>\n",
       "    .dataframe tbody tr th:only-of-type {\n",
       "        vertical-align: middle;\n",
       "    }\n",
       "\n",
       "    .dataframe tbody tr th {\n",
       "        vertical-align: top;\n",
       "    }\n",
       "\n",
       "    .dataframe thead th {\n",
       "        text-align: right;\n",
       "    }\n",
       "</style>\n",
       "<table border=\"1\" class=\"dataframe\">\n",
       "  <thead>\n",
       "    <tr style=\"text-align: right;\">\n",
       "      <th></th>\n",
       "      <th>Gender</th>\n",
       "      <th>Married</th>\n",
       "      <th>Dependents</th>\n",
       "      <th>Education</th>\n",
       "      <th>Self_Employed</th>\n",
       "      <th>ApplicantIncome</th>\n",
       "      <th>CoapplicantIncome</th>\n",
       "      <th>LoanAmount</th>\n",
       "      <th>Loan_Amount_Term</th>\n",
       "      <th>Credit_History</th>\n",
       "      <th>Property_Area</th>\n",
       "    </tr>\n",
       "  </thead>\n",
       "  <tbody>\n",
       "    <tr>\n",
       "      <th>0</th>\n",
       "      <td>1</td>\n",
       "      <td>0</td>\n",
       "      <td>0</td>\n",
       "      <td>1</td>\n",
       "      <td>0</td>\n",
       "      <td>5849</td>\n",
       "      <td>0.0</td>\n",
       "      <td>120</td>\n",
       "      <td>360.0</td>\n",
       "      <td>1.0</td>\n",
       "      <td>1</td>\n",
       "    </tr>\n",
       "    <tr>\n",
       "      <th>1</th>\n",
       "      <td>1</td>\n",
       "      <td>1</td>\n",
       "      <td>1</td>\n",
       "      <td>1</td>\n",
       "      <td>0</td>\n",
       "      <td>4583</td>\n",
       "      <td>1508.0</td>\n",
       "      <td>128</td>\n",
       "      <td>360.0</td>\n",
       "      <td>1.0</td>\n",
       "      <td>2</td>\n",
       "    </tr>\n",
       "    <tr>\n",
       "      <th>2</th>\n",
       "      <td>1</td>\n",
       "      <td>1</td>\n",
       "      <td>0</td>\n",
       "      <td>1</td>\n",
       "      <td>1</td>\n",
       "      <td>3000</td>\n",
       "      <td>0.0</td>\n",
       "      <td>66</td>\n",
       "      <td>360.0</td>\n",
       "      <td>1.0</td>\n",
       "      <td>1</td>\n",
       "    </tr>\n",
       "    <tr>\n",
       "      <th>3</th>\n",
       "      <td>1</td>\n",
       "      <td>1</td>\n",
       "      <td>0</td>\n",
       "      <td>0</td>\n",
       "      <td>0</td>\n",
       "      <td>2583</td>\n",
       "      <td>2358.0</td>\n",
       "      <td>120</td>\n",
       "      <td>360.0</td>\n",
       "      <td>1.0</td>\n",
       "      <td>1</td>\n",
       "    </tr>\n",
       "    <tr>\n",
       "      <th>4</th>\n",
       "      <td>1</td>\n",
       "      <td>0</td>\n",
       "      <td>0</td>\n",
       "      <td>1</td>\n",
       "      <td>0</td>\n",
       "      <td>6000</td>\n",
       "      <td>0.0</td>\n",
       "      <td>141</td>\n",
       "      <td>360.0</td>\n",
       "      <td>1.0</td>\n",
       "      <td>1</td>\n",
       "    </tr>\n",
       "  </tbody>\n",
       "</table>\n",
       "</div>"
      ],
      "text/plain": [
       "   Gender  Married  Dependents  Education  Self_Employed  ApplicantIncome  \\\n",
       "0       1        0           0          1              0             5849   \n",
       "1       1        1           1          1              0             4583   \n",
       "2       1        1           0          1              1             3000   \n",
       "3       1        1           0          0              0             2583   \n",
       "4       1        0           0          1              0             6000   \n",
       "\n",
       "   CoapplicantIncome LoanAmount  Loan_Amount_Term  Credit_History  \\\n",
       "0                0.0        120             360.0             1.0   \n",
       "1             1508.0        128             360.0             1.0   \n",
       "2                0.0         66             360.0             1.0   \n",
       "3             2358.0        120             360.0             1.0   \n",
       "4                0.0        141             360.0             1.0   \n",
       "\n",
       "   Property_Area  \n",
       "0              1  \n",
       "1              2  \n",
       "2              1  \n",
       "3              1  \n",
       "4              1  "
      ]
     },
     "execution_count": 24,
     "metadata": {},
     "output_type": "execute_result"
    }
   ],
   "source": [
    "X.head()\n"
   ]
  },
  {
   "cell_type": "code",
   "execution_count": 25,
   "metadata": {},
   "outputs": [],
   "source": [
    "X_train, X_test, y_train, y_test = train_test_split(X, y, test_size=0.2, stratify=y, random_state=42)"
   ]
  },
  {
   "cell_type": "markdown",
   "metadata": {},
   "source": [
    "## Logistic regression"
   ]
  },
  {
   "cell_type": "code",
   "execution_count": 26,
   "metadata": {},
   "outputs": [
    {
     "name": "stderr",
     "output_type": "stream",
     "text": [
      "c:\\users\\atikant negi\\ml\\lib\\site-packages\\sklearn\\linear_model\\_logistic.py:762: ConvergenceWarning: lbfgs failed to converge (status=1):\n",
      "STOP: TOTAL NO. of ITERATIONS REACHED LIMIT.\n",
      "\n",
      "Increase the number of iterations (max_iter) or scale the data as shown in:\n",
      "    https://scikit-learn.org/stable/modules/preprocessing.html\n",
      "Please also refer to the documentation for alternative solver options:\n",
      "    https://scikit-learn.org/stable/modules/linear_model.html#logistic-regression\n",
      "  n_iter_i = _check_optimize_result(\n"
     ]
    },
    {
     "data": {
      "text/plain": [
       "LogisticRegression()"
      ]
     },
     "execution_count": 26,
     "metadata": {},
     "output_type": "execute_result"
    }
   ],
   "source": [
    "model = LogisticRegression()\n",
    "model.fit(X_train, y_train)\n"
   ]
  },
  {
   "cell_type": "code",
   "execution_count": 27,
   "metadata": {},
   "outputs": [],
   "source": [
    "# Training logistic regression model\n",
    "ypred = model.predict(X_test)\n",
    "yTrainPred=model.predict(X_train)"
   ]
  },
  {
   "cell_type": "code",
   "execution_count": 28,
   "metadata": {},
   "outputs": [
    {
     "data": {
      "text/plain": [
       "0.8722002635046114"
      ]
     },
     "execution_count": 28,
     "metadata": {},
     "output_type": "execute_result"
    }
   ],
   "source": [
    "#on training accuracy\n",
    "evaluation = f1_score(y_train, yTrainPred)\n",
    "evaluation"
   ]
  },
  {
   "cell_type": "code",
   "execution_count": 29,
   "metadata": {},
   "outputs": [
    {
     "data": {
      "text/plain": [
       "0.9081081081081082"
      ]
     },
     "execution_count": 29,
     "metadata": {},
     "output_type": "execute_result"
    }
   ],
   "source": [
    "#cross-validation\n",
    "evaluation = f1_score(y_test, ypred)\n",
    "evaluation"
   ]
  },
  {
   "cell_type": "code",
   "execution_count": 30,
   "metadata": {},
   "outputs": [
    {
     "name": "stdout",
     "output_type": "stream",
     "text": [
      "Confusion Matrix: \n",
      " [[ 63  91]\n",
      " [  6 331]]\n"
     ]
    }
   ],
   "source": [
    "#confusion matrix for training set\n",
    "print('Confusion Matrix: \\n',confusion_matrix(y_train,yTrainPred))"
   ]
  },
  {
   "cell_type": "code",
   "execution_count": 31,
   "metadata": {},
   "outputs": [
    {
     "name": "stdout",
     "output_type": "stream",
     "text": [
      "Confusion Matrix: \n",
      " [[22 16]\n",
      " [ 1 84]]\n"
     ]
    }
   ],
   "source": [
    "#Confusion matrix for test-set\n",
    "print('Confusion Matrix: \\n',confusion_matrix(y_test,ypred))"
   ]
  },
  {
   "cell_type": "code",
   "execution_count": 32,
   "metadata": {},
   "outputs": [
    {
     "name": "stdout",
     "output_type": "stream",
     "text": [
      "              precision    recall  f1-score   support\n",
      "\n",
      "           0       0.96      0.58      0.72        38\n",
      "           1       0.84      0.99      0.91        85\n",
      "\n",
      "    accuracy                           0.86       123\n",
      "   macro avg       0.90      0.78      0.81       123\n",
      "weighted avg       0.88      0.86      0.85       123\n",
      "\n"
     ]
    }
   ],
   "source": [
    "# test accuracy report\n",
    "print(classification_report(y_test, ypred))"
   ]
  },
  {
   "cell_type": "code",
   "execution_count": 33,
   "metadata": {},
   "outputs": [
    {
     "name": "stdout",
     "output_type": "stream",
     "text": [
      "AREA UNDER ROC:  0.7835913312693499\n"
     ]
    },
    {
     "data": {
      "text/plain": [
       "<function matplotlib.pyplot.show(close=None, block=None)>"
      ]
     },
     "execution_count": 33,
     "metadata": {},
     "output_type": "execute_result"
    },
    {
     "data": {
      "image/png": "[encoded data removed]",
      "text/plain": [
       "<Figure size 432x288 with 1 Axes>"
      ]
     },
     "metadata": {
      "needs_background": "light"
     },
     "output_type": "display_data"
    }
   ],
   "source": [
    "#AUROC\n",
    "logis_auc=roc_auc_score(y_test,ypred)\n",
    "print(\"AREA UNDER ROC: \",logis_auc)\n",
    "logis_fpr,logis_tpr,_ =roc_curve(y_test,ypred)\n",
    "plt.plot(logis_fpr,logis_tpr)\n",
    "plt.xlabel('False positive rate')\n",
    "plt.ylabel('True positive rate')\n",
    "plt.show"
   ]
  },
  {
   "cell_type": "markdown",
   "metadata": {},
   "source": [
    "## Random Forest"
   ]
  },
  {
   "cell_type": "code",
   "execution_count": 34,
   "metadata": {},
   "outputs": [],
   "source": [
    "#initializing Random Forest\n",
    "forest=RandomForestClassifier()"
   ]
  },
  {
   "cell_type": "code",
   "execution_count": 35,
   "metadata": {},
   "outputs": [
    {
     "data": {
      "text/plain": [
       "RandomForestClassifier()"
      ]
     },
     "execution_count": 35,
     "metadata": {},
     "output_type": "execute_result"
    }
   ],
   "source": [
    "#Training the random Forest\n",
    "forest.fit(X_train, y_train)"
   ]
  },
  {
   "cell_type": "code",
   "execution_count": 36,
   "metadata": {},
   "outputs": [],
   "source": [
    "#Checking the model fit on training data\n",
    "yTrainPredforest=forest.predict(X_train)"
   ]
  },
  {
   "cell_type": "code",
   "execution_count": 37,
   "metadata": {},
   "outputs": [
    {
     "data": {
      "text/plain": [
       "1.0"
      ]
     },
     "execution_count": 37,
     "metadata": {},
     "output_type": "execute_result"
    }
   ],
   "source": [
    "#Checking the accuracy on training data\n",
    "evaluation_RandomForestTrain=f1_score(y_train,yTrainPredforest)\n",
    "evaluation_RandomForestTrain"
   ]
  },
  {
   "cell_type": "code",
   "execution_count": 38,
   "metadata": {},
   "outputs": [],
   "source": [
    "#Checking the model fit on cross validation data\n",
    "ypredforest=forest.predict(X_test)"
   ]
  },
  {
   "cell_type": "code",
   "execution_count": 39,
   "metadata": {},
   "outputs": [
    {
     "data": {
      "text/plain": [
       "0.8876404494382023"
      ]
     },
     "execution_count": 39,
     "metadata": {},
     "output_type": "execute_result"
    }
   ],
   "source": [
    "#Checking accuracy of cross validation data\n",
    "evaluation_RandomForest=f1_score(y_test,ypredforest)\n",
    "evaluation_RandomForest"
   ]
  },
  {
   "cell_type": "code",
   "execution_count": 40,
   "metadata": {},
   "outputs": [
    {
     "name": "stdout",
     "output_type": "stream",
     "text": [
      "Confusion Matrix: \n",
      " [[24 14]\n",
      " [ 6 79]]\n"
     ]
    }
   ],
   "source": [
    "#Confusion matrix for test-set\n",
    "print('Confusion Matrix: \\n',confusion_matrix(y_test,ypredforest))"
   ]
  },
  {
   "cell_type": "code",
   "execution_count": 41,
   "metadata": {},
   "outputs": [
    {
     "name": "stdout",
     "output_type": "stream",
     "text": [
      "AREA UNDER ROC:  0.7804953560371517\n"
     ]
    },
    {
     "data": {
      "text/plain": [
       "<function matplotlib.pyplot.show(close=None, block=None)>"
      ]
     },
     "execution_count": 41,
     "metadata": {},
     "output_type": "execute_result"
    },
    {
     "data": {
      "image/png": "[encoded data removed]",
      "text/plain": [
       "<Figure size 432x288 with 1 Axes>"
      ]
     },
     "metadata": {
      "needs_background": "light"
     },
     "output_type": "display_data"
    }
   ],
   "source": [
    "#AUROC\n",
    "random_auc=roc_auc_score(y_test,ypredforest)\n",
    "print(\"AREA UNDER ROC: \",random_auc)\n",
    "random_fpr,random_tpr,_ =roc_curve(y_test,ypredforest)\n",
    "plt.plot(random_fpr,random_tpr)\n",
    "plt.xlabel('False positive rate')\n",
    "plt.ylabel('True positive rate')\n",
    "plt.show"
   ]
  },
  {
   "cell_type": "markdown",
   "metadata": {},
   "source": [
    "## Artificial Neural Network"
   ]
  },
  {
   "cell_type": "code",
   "execution_count": 42,
   "metadata": {},
   "outputs": [],
   "source": [
    "#creating a artificial Neural network\n",
    "modelAnn = Sequential([\n",
    "    Dense(4, activation='relu', input_shape=( 11 ,)),\n",
    "    Dense(2, activation='relu'),\n",
    "    Dense(1, activation='sigmoid')\n",
    "])"
   ]
  },
  {
   "cell_type": "code",
   "execution_count": 43,
   "metadata": {},
   "outputs": [],
   "source": [
    "#compiler settings for the model\n",
    "modelAnn.compile(optimizer='adam',\n",
    "              loss='binary_crossentropy',\n",
    "              metrics=['accuracy'])"
   ]
  },
  {
   "cell_type": "code",
   "execution_count": 44,
   "metadata": {},
   "outputs": [],
   "source": [
    "# converting the data as numpy array\n",
    "X_train=np.asarray(X_train).astype(np.float32)\n",
    "y_train=np.asarray(y_train).astype(np.float32)\n",
    "X_test=np.asarray(X_test).astype(np.float32)\n",
    "y_test=np.asarray(y_test).astype(np.float32)"
   ]
  },
  {
   "cell_type": "code",
   "execution_count": 45,
   "metadata": {},
   "outputs": [
    {
     "name": "stdout",
     "output_type": "stream",
     "text": [
      "Epoch 1/50\n",
      "98/98 [==============================] - 1s 10ms/step - loss: 202.4837 - accuracy: 0.3379 - val_loss: 11.0923 - val_accuracy: 0.6768\n",
      "Epoch 2/50\n",
      "98/98 [==============================] - 0s 1ms/step - loss: 8.5492 - accuracy: 0.5963 - val_loss: 7.2086 - val_accuracy: 0.6970\n",
      "Epoch 3/50\n",
      "98/98 [==============================] - 0s 1ms/step - loss: 6.6361 - accuracy: 0.6098 - val_loss: 5.3685 - val_accuracy: 0.6970\n",
      "Epoch 4/50\n",
      "98/98 [==============================] - 0s 1ms/step - loss: 4.5745 - accuracy: 0.6129 - val_loss: 3.3317 - val_accuracy: 0.5758\n",
      "Epoch 5/50\n",
      "98/98 [==============================] - 0s 1ms/step - loss: 3.6244 - accuracy: 0.5701 - val_loss: 4.5747 - val_accuracy: 0.5556\n",
      "Epoch 6/50\n",
      "98/98 [==============================] - 0s 1ms/step - loss: 2.4905 - accuracy: 0.5979 - val_loss: 5.3662 - val_accuracy: 0.6970\n",
      "Epoch 7/50\n",
      "98/98 [==============================] - 0s 1ms/step - loss: 3.1358 - accuracy: 0.6325 - val_loss: 1.5903 - val_accuracy: 0.6970\n",
      "Epoch 8/50\n",
      "98/98 [==============================] - 0s 1ms/step - loss: 3.2014 - accuracy: 0.5679 - val_loss: 0.6697 - val_accuracy: 0.6364\n",
      "Epoch 9/50\n",
      "98/98 [==============================] - 0s 1ms/step - loss: 0.9318 - accuracy: 0.5958 - val_loss: 0.7051 - val_accuracy: 0.6970\n",
      "Epoch 10/50\n",
      "98/98 [==============================] - 0s 1ms/step - loss: 1.7548 - accuracy: 0.7019 - val_loss: 1.1733 - val_accuracy: 0.6970\n",
      "Epoch 11/50\n",
      "98/98 [==============================] - 0s 1ms/step - loss: 2.7978 - accuracy: 0.5265 - val_loss: 2.2702 - val_accuracy: 0.6970\n",
      "Epoch 12/50\n",
      "98/98 [==============================] - 0s 1ms/step - loss: 1.7521 - accuracy: 0.6389 - val_loss: 1.1847 - val_accuracy: 0.6970\n",
      "Epoch 13/50\n",
      "98/98 [==============================] - 0s 1ms/step - loss: 0.9118 - accuracy: 0.5954 - val_loss: 2.6651 - val_accuracy: 0.6970\n"
     ]
    }
   ],
   "source": [
    "# callback to stop epoch in case of high loss \n",
    "es = EarlyStopping(monitor='val_loss', mode='min',patience=5)\n",
    "hist = modelAnn.fit(X_train, y_train,\n",
    "          batch_size=4, epochs=50, validation_split=0.2,callbacks=[es])"
   ]
  },
  {
   "cell_type": "code",
   "execution_count": 46,
   "metadata": {},
   "outputs": [],
   "source": [
    "# predicting response and setting threshold\n",
    "AnnTestPred = modelAnn.predict(X_test)\n",
    "prediction  = [1 if y>=0.5 else 0 for y in AnnTestPred]"
   ]
  },
  {
   "cell_type": "code",
   "execution_count": 47,
   "metadata": {},
   "outputs": [
    {
     "data": {
      "text/plain": [
       "[1,\n",
       " 1,\n",
       " 1,\n",
       " 1,\n",
       " 0,\n",
       " 1,\n",
       " 1,\n",
       " 1,\n",
       " 1,\n",
       " 1,\n",
       " 1,\n",
       " 1,\n",
       " 1,\n",
       " 1,\n",
       " 1,\n",
       " 1,\n",
       " 1,\n",
       " 1,\n",
       " 1,\n",
       " 1,\n",
       " 1,\n",
       " 1,\n",
       " 1,\n",
       " 1,\n",
       " 1,\n",
       " 1,\n",
       " 1,\n",
       " 1,\n",
       " 1,\n",
       " 1,\n",
       " 1,\n",
       " 1,\n",
       " 1,\n",
       " 1,\n",
       " 1,\n",
       " 1,\n",
       " 1,\n",
       " 1,\n",
       " 1,\n",
       " 1,\n",
       " 1,\n",
       " 1,\n",
       " 1,\n",
       " 1,\n",
       " 1,\n",
       " 1,\n",
       " 1,\n",
       " 1,\n",
       " 1,\n",
       " 1,\n",
       " 1,\n",
       " 1,\n",
       " 1,\n",
       " 1,\n",
       " 1,\n",
       " 1,\n",
       " 1,\n",
       " 1,\n",
       " 1,\n",
       " 1,\n",
       " 1,\n",
       " 1,\n",
       " 1,\n",
       " 1,\n",
       " 1,\n",
       " 1,\n",
       " 1,\n",
       " 1,\n",
       " 1,\n",
       " 1,\n",
       " 1,\n",
       " 1,\n",
       " 1,\n",
       " 1,\n",
       " 1,\n",
       " 1,\n",
       " 1,\n",
       " 1,\n",
       " 1,\n",
       " 1,\n",
       " 1,\n",
       " 1,\n",
       " 1,\n",
       " 1,\n",
       " 1,\n",
       " 1,\n",
       " 1,\n",
       " 1,\n",
       " 1,\n",
       " 1,\n",
       " 1,\n",
       " 1,\n",
       " 1,\n",
       " 1,\n",
       " 1,\n",
       " 1,\n",
       " 1,\n",
       " 1,\n",
       " 1,\n",
       " 1,\n",
       " 1,\n",
       " 1,\n",
       " 1,\n",
       " 1,\n",
       " 1,\n",
       " 1,\n",
       " 1,\n",
       " 1,\n",
       " 1,\n",
       " 1,\n",
       " 1,\n",
       " 1,\n",
       " 1,\n",
       " 1,\n",
       " 1,\n",
       " 1,\n",
       " 1,\n",
       " 1,\n",
       " 1,\n",
       " 1,\n",
       " 1,\n",
       " 1,\n",
       " 1]"
      ]
     },
     "execution_count": 47,
     "metadata": {},
     "output_type": "execute_result"
    }
   ],
   "source": [
    "prediction"
   ]
  },
  {
   "cell_type": "code",
   "execution_count": 48,
   "metadata": {},
   "outputs": [
    {
     "name": "stdout",
     "output_type": "stream",
     "text": [
      "Confusion Matrix: \n",
      " [[ 0 38]\n",
      " [ 1 84]]\n",
      "\n",
      "Accuracy:  0.6829268292682927\n"
     ]
    }
   ],
   "source": [
    "#Confusion matrix\n",
    "print('Confusion Matrix: \\n',confusion_matrix(y_test,prediction))\n",
    "print()\n",
    "print('Accuracy: ', accuracy_score(y_test,prediction))"
   ]
  },
  {
   "cell_type": "code",
   "execution_count": 49,
   "metadata": {},
   "outputs": [
    {
     "name": "stdout",
     "output_type": "stream",
     "text": [
      "4/4 [==============================] - 0s 978us/step - loss: 1.8896 - accuracy: 0.6829\n"
     ]
    },
    {
     "data": {
      "text/plain": [
       "0.6829268336296082"
      ]
     },
     "execution_count": 49,
     "metadata": {},
     "output_type": "execute_result"
    }
   ],
   "source": [
    "#Accuracy of ANN\n",
    "modelAnn.evaluate(X_test, y_test)[1]"
   ]
  },
  {
   "cell_type": "code",
   "execution_count": 50,
   "metadata": {},
   "outputs": [
    {
     "name": "stdout",
     "output_type": "stream",
     "text": [
      "AREA UNDER ROC:  0.49411764705882355\n"
     ]
    },
    {
     "data": {
      "text/plain": [
       "<function matplotlib.pyplot.show(close=None, block=None)>"
      ]
     },
     "execution_count": 50,
     "metadata": {},
     "output_type": "execute_result"
    },
    {
     "data": {
      "image/png": "[encoded data removed]",
      "text/plain": [
       "<Figure size 432x288 with 1 Axes>"
      ]
     },
     "metadata": {
      "needs_background": "light"
     },
     "output_type": "display_data"
    }
   ],
   "source": [
    "#AUROC\n",
    "ann_auc=roc_auc_score(y_test,prediction)\n",
    "print(\"AREA UNDER ROC: \",ann_auc)\n",
    "ann_fpr,ann_tpr,_ =roc_curve(y_test,prediction)\n",
    "plt.plot(ann_fpr,ann_tpr)\n",
    "plt.xlabel('False positive rate')\n",
    "plt.ylabel('True positive rate')\n",
    "plt.show"
   ]
  },
  {
   "cell_type": "code",
   "execution_count": 54,
   "metadata": {},
   "outputs": [],
   "source": [
    "#reading test file\n",
    "test_in = pd.read_csv(\"./test_loan.csv\",  delimiter=',')"
   ]
  },
  {
   "cell_type": "code",
   "execution_count": 55,
   "metadata": {},
   "outputs": [
    {
     "data": {
      "text/html": [
       "<div>\n",
       "<style scoped>\n",
       "    .dataframe tbody tr th:only-of-type {\n",
       "        vertical-align: middle;\n",
       "    }\n",
       "\n",
       "    .dataframe tbody tr th {\n",
       "        vertical-align: top;\n",
       "    }\n",
       "\n",
       "    .dataframe thead th {\n",
       "        text-align: right;\n",
       "    }\n",
       "</style>\n",
       "<table border=\"1\" class=\"dataframe\">\n",
       "  <thead>\n",
       "    <tr style=\"text-align: right;\">\n",
       "      <th></th>\n",
       "      <th>Loan_ID</th>\n",
       "      <th>Gender</th>\n",
       "      <th>Married</th>\n",
       "      <th>Dependents</th>\n",
       "      <th>Education</th>\n",
       "      <th>Self_Employed</th>\n",
       "      <th>ApplicantIncome</th>\n",
       "      <th>CoapplicantIncome</th>\n",
       "      <th>LoanAmount</th>\n",
       "      <th>Loan_Amount_Term</th>\n",
       "      <th>Credit_History</th>\n",
       "      <th>Property_Area</th>\n",
       "    </tr>\n",
       "  </thead>\n",
       "  <tbody>\n",
       "    <tr>\n",
       "      <th>0</th>\n",
       "      <td>LP001015</td>\n",
       "      <td>Male</td>\n",
       "      <td>Yes</td>\n",
       "      <td>0</td>\n",
       "      <td>Graduate</td>\n",
       "      <td>No</td>\n",
       "      <td>5720</td>\n",
       "      <td>0</td>\n",
       "      <td>110.0</td>\n",
       "      <td>360.0</td>\n",
       "      <td>1.0</td>\n",
       "      <td>Urban</td>\n",
       "    </tr>\n",
       "    <tr>\n",
       "      <th>1</th>\n",
       "      <td>LP001022</td>\n",
       "      <td>Male</td>\n",
       "      <td>Yes</td>\n",
       "      <td>1</td>\n",
       "      <td>Graduate</td>\n",
       "      <td>No</td>\n",
       "      <td>3076</td>\n",
       "      <td>1500</td>\n",
       "      <td>126.0</td>\n",
       "      <td>360.0</td>\n",
       "      <td>1.0</td>\n",
       "      <td>Urban</td>\n",
       "    </tr>\n",
       "    <tr>\n",
       "      <th>2</th>\n",
       "      <td>LP001031</td>\n",
       "      <td>Male</td>\n",
       "      <td>Yes</td>\n",
       "      <td>2</td>\n",
       "      <td>Graduate</td>\n",
       "      <td>No</td>\n",
       "      <td>5000</td>\n",
       "      <td>1800</td>\n",
       "      <td>208.0</td>\n",
       "      <td>360.0</td>\n",
       "      <td>1.0</td>\n",
       "      <td>Urban</td>\n",
       "    </tr>\n",
       "    <tr>\n",
       "      <th>3</th>\n",
       "      <td>LP001035</td>\n",
       "      <td>Male</td>\n",
       "      <td>Yes</td>\n",
       "      <td>2</td>\n",
       "      <td>Graduate</td>\n",
       "      <td>No</td>\n",
       "      <td>2340</td>\n",
       "      <td>2546</td>\n",
       "      <td>100.0</td>\n",
       "      <td>360.0</td>\n",
       "      <td>NaN</td>\n",
       "      <td>Urban</td>\n",
       "    </tr>\n",
       "    <tr>\n",
       "      <th>4</th>\n",
       "      <td>LP001051</td>\n",
       "      <td>Male</td>\n",
       "      <td>No</td>\n",
       "      <td>0</td>\n",
       "      <td>Not Graduate</td>\n",
       "      <td>No</td>\n",
       "      <td>3276</td>\n",
       "      <td>0</td>\n",
       "      <td>78.0</td>\n",
       "      <td>360.0</td>\n",
       "      <td>1.0</td>\n",
       "      <td>Urban</td>\n",
       "    </tr>\n",
       "  </tbody>\n",
       "</table>\n",
       "</div>"
      ],
      "text/plain": [
       "    Loan_ID Gender Married Dependents     Education Self_Employed  \\\n",
       "0  LP001015   Male     Yes          0      Graduate            No   \n",
       "1  LP001022   Male     Yes          1      Graduate            No   \n",
       "2  LP001031   Male     Yes          2      Graduate            No   \n",
       "3  LP001035   Male     Yes          2      Graduate            No   \n",
       "4  LP001051   Male      No          0  Not Graduate            No   \n",
       "\n",
       "   ApplicantIncome  CoapplicantIncome  LoanAmount  Loan_Amount_Term  \\\n",
       "0             5720                  0       110.0             360.0   \n",
       "1             3076               1500       126.0             360.0   \n",
       "2             5000               1800       208.0             360.0   \n",
       "3             2340               2546       100.0             360.0   \n",
       "4             3276                  0        78.0             360.0   \n",
       "\n",
       "   Credit_History Property_Area  \n",
       "0             1.0         Urban  \n",
       "1             1.0         Urban  \n",
       "2             1.0         Urban  \n",
       "3             NaN         Urban  \n",
       "4             1.0         Urban  "
      ]
     },
     "execution_count": 55,
     "metadata": {},
     "output_type": "execute_result"
    }
   ],
   "source": [
    "test_in.head()"
   ]
  },
  {
   "cell_type": "code",
   "execution_count": 56,
   "metadata": {},
   "outputs": [
    {
     "data": {
      "text/plain": [
       "0      LP001015\n",
       "1      LP001022\n",
       "2      LP001031\n",
       "3      LP001035\n",
       "4      LP001051\n",
       "         ...   \n",
       "362    LP002971\n",
       "363    LP002975\n",
       "364    LP002980\n",
       "365    LP002986\n",
       "366    LP002989\n",
       "Name: Loan_ID, Length: 367, dtype: object"
      ]
     },
     "execution_count": 56,
     "metadata": {},
     "output_type": "execute_result"
    }
   ],
   "source": [
    "test_in.pop('Loan_ID')"
   ]
  },
  {
   "cell_type": "code",
   "execution_count": 59,
   "metadata": {},
   "outputs": [
    {
     "data": {
      "text/plain": [
       "[1,\n",
       " 1,\n",
       " 1,\n",
       " 0,\n",
       " 1,\n",
       " 0,\n",
       " 1,\n",
       " 1,\n",
       " 0,\n",
       " 1,\n",
       " 1,\n",
       " 0,\n",
       " 0,\n",
       " 0,\n",
       " 1,\n",
       " 1,\n",
       " 1,\n",
       " 1,\n",
       " 1,\n",
       " 1,\n",
       " 1,\n",
       " 1,\n",
       " 0,\n",
       " 1,\n",
       " 1,\n",
       " 1,\n",
       " 0,\n",
       " 1,\n",
       " 0,\n",
       " 1,\n",
       " 1,\n",
       " 1,\n",
       " 1,\n",
       " 1,\n",
       " 1,\n",
       " 1,\n",
       " 0,\n",
       " 1,\n",
       " 1,\n",
       " 1,\n",
       " 1,\n",
       " 1,\n",
       " 1,\n",
       " 1,\n",
       " 1,\n",
       " 0,\n",
       " 0,\n",
       " 1,\n",
       " 0,\n",
       " 1,\n",
       " 1,\n",
       " 0,\n",
       " 1,\n",
       " 1,\n",
       " 1,\n",
       " 1,\n",
       " 1,\n",
       " 1,\n",
       " 1,\n",
       " 1,\n",
       " 1,\n",
       " 1,\n",
       " 1,\n",
       " 1,\n",
       " 1,\n",
       " 1,\n",
       " 1,\n",
       " 1,\n",
       " 1,\n",
       " 1,\n",
       " 0,\n",
       " 1,\n",
       " 0,\n",
       " 1,\n",
       " 1,\n",
       " 1,\n",
       " 1,\n",
       " 1,\n",
       " 0,\n",
       " 1,\n",
       " 1,\n",
       " 1,\n",
       " 1,\n",
       " 1,\n",
       " 1,\n",
       " 0,\n",
       " 1,\n",
       " 1,\n",
       " 1,\n",
       " 0,\n",
       " 0,\n",
       " 1,\n",
       " 1,\n",
       " 1,\n",
       " 1,\n",
       " 1,\n",
       " 1,\n",
       " 1,\n",
       " 1,\n",
       " 0,\n",
       " 1,\n",
       " 0,\n",
       " 1,\n",
       " 1,\n",
       " 0,\n",
       " 1,\n",
       " 0,\n",
       " 1,\n",
       " 1,\n",
       " 1,\n",
       " 1,\n",
       " 0,\n",
       " 1,\n",
       " 1,\n",
       " 1,\n",
       " 0,\n",
       " 1,\n",
       " 0,\n",
       " 1,\n",
       " 1,\n",
       " 1,\n",
       " 0,\n",
       " 1,\n",
       " 1,\n",
       " 1,\n",
       " 1,\n",
       " 1,\n",
       " 1,\n",
       " 1,\n",
       " 0,\n",
       " 1,\n",
       " 1,\n",
       " 1,\n",
       " 1,\n",
       " 1,\n",
       " 1,\n",
       " 1,\n",
       " 1,\n",
       " 0,\n",
       " 0,\n",
       " 1,\n",
       " 1,\n",
       " 0,\n",
       " 0,\n",
       " 1,\n",
       " 1,\n",
       " 1,\n",
       " 1,\n",
       " 1,\n",
       " 1,\n",
       " 1,\n",
       " 1,\n",
       " 1,\n",
       " 1,\n",
       " 1,\n",
       " 0,\n",
       " 1,\n",
       " 1,\n",
       " 1,\n",
       " 1,\n",
       " 1,\n",
       " 0,\n",
       " 1,\n",
       " 1,\n",
       " 0,\n",
       " 1,\n",
       " 0,\n",
       " 1,\n",
       " 0,\n",
       " 1,\n",
       " 1,\n",
       " 1,\n",
       " 1,\n",
       " 1,\n",
       " 1,\n",
       " 0,\n",
       " 1,\n",
       " 0,\n",
       " 1,\n",
       " 0,\n",
       " 1,\n",
       " 1,\n",
       " 1,\n",
       " 1,\n",
       " 0,\n",
       " 0,\n",
       " 1,\n",
       " 1,\n",
       " 0,\n",
       " 1,\n",
       " 1,\n",
       " 1,\n",
       " 0,\n",
       " 1,\n",
       " 1,\n",
       " 1,\n",
       " 1,\n",
       " 1,\n",
       " 1,\n",
       " 1,\n",
       " 1,\n",
       " 1,\n",
       " 0,\n",
       " 1,\n",
       " 1,\n",
       " 1,\n",
       " 1,\n",
       " 1,\n",
       " 1,\n",
       " 0,\n",
       " 1,\n",
       " 1,\n",
       " 1,\n",
       " 1,\n",
       " 0,\n",
       " 1,\n",
       " 1,\n",
       " 1,\n",
       " 1,\n",
       " 1,\n",
       " 0,\n",
       " 1,\n",
       " 1,\n",
       " 1,\n",
       " 1,\n",
       " 1,\n",
       " 1,\n",
       " 1,\n",
       " 1,\n",
       " 1,\n",
       " 1,\n",
       " 0,\n",
       " 1,\n",
       " 1,\n",
       " 1,\n",
       " 1,\n",
       " 1,\n",
       " 1,\n",
       " 1,\n",
       " 1,\n",
       " 1,\n",
       " 1,\n",
       " 1,\n",
       " 0,\n",
       " 1,\n",
       " 0,\n",
       " 1,\n",
       " 0,\n",
       " 1,\n",
       " 1,\n",
       " 1,\n",
       " 0,\n",
       " 1,\n",
       " 1,\n",
       " 1,\n",
       " 0,\n",
       " 1,\n",
       " 1,\n",
       " 1,\n",
       " 0,\n",
       " 1,\n",
       " 1,\n",
       " 0,\n",
       " 1,\n",
       " 1,\n",
       " 0,\n",
       " 1,\n",
       " 1,\n",
       " 1,\n",
       " 1,\n",
       " 1,\n",
       " 1,\n",
       " 1,\n",
       " 1,\n",
       " 1,\n",
       " 1,\n",
       " 0,\n",
       " 1,\n",
       " 0,\n",
       " 0,\n",
       " 1,\n",
       " 1,\n",
       " 0,\n",
       " 1,\n",
       " 1,\n",
       " 0,\n",
       " 0,\n",
       " 0,\n",
       " 1,\n",
       " 0,\n",
       " 1,\n",
       " 1,\n",
       " 1,\n",
       " 1,\n",
       " 0,\n",
       " 1,\n",
       " 0,\n",
       " 0,\n",
       " 1,\n",
       " 1,\n",
       " 1,\n",
       " 0,\n",
       " 0,\n",
       " 0,\n",
       " 1,\n",
       " 0,\n",
       " 1,\n",
       " 1,\n",
       " 1,\n",
       " 1,\n",
       " 1,\n",
       " 1,\n",
       " 0,\n",
       " 1,\n",
       " 1,\n",
       " 1,\n",
       " 1,\n",
       " 0,\n",
       " 0,\n",
       " 1,\n",
       " 1,\n",
       " 1,\n",
       " 1,\n",
       " 0,\n",
       " 1,\n",
       " 1,\n",
       " 0,\n",
       " 1,\n",
       " 1,\n",
       " 0,\n",
       " 1,\n",
       " 1,\n",
       " 1,\n",
       " 1,\n",
       " 1,\n",
       " 1,\n",
       " 0,\n",
       " 1,\n",
       " 1,\n",
       " 1,\n",
       " 0,\n",
       " 1,\n",
       " 1,\n",
       " 1,\n",
       " 1,\n",
       " 1,\n",
       " 1,\n",
       " 1,\n",
       " 1,\n",
       " 1,\n",
       " 1,\n",
       " 0,\n",
       " 1,\n",
       " 1,\n",
       " 1,\n",
       " 1,\n",
       " 1,\n",
       " 1,\n",
       " 0,\n",
       " 1,\n",
       " 0,\n",
       " 1,\n",
       " 1,\n",
       " 1,\n",
       " 0,\n",
       " 1,\n",
       " 1]"
      ]
     },
     "execution_count": 59,
     "metadata": {},
     "output_type": "execute_result"
    }
   ],
   "source": [
    "test_in['Gender']=test_in['Gender'].map({'Male':1,'Female':0})\n",
    "test_in['Property_Area']=test_in['Property_Area'].map({'Urban':1,'Rural':2,'Semiurban':3})\n",
    "test_in['Married']=test_in['Married'].map({'Yes':1,'No':0})\n",
    "test_in['Self_Employed']=test_in['Self_Employed'].map({'Yes':1,'No':0})\n",
    "test_in['Education']=test_in['Education'].map({'Graduate':1,'Not Graduate':0})\n",
    "test_in['Dependents']=test_in['Dependents'].map({'0':0,'1':1,'2':2,'3+':3})\n",
    "test_in['Credit_History']=pd.to_numeric(test_in.Credit_History)\n",
    "test_in['Loan_Amount_Term']=pd.to_numeric(test_in.Loan_Amount_Term)\n",
    "test_in['CoapplicantIncome']=pd.to_numeric(test_in.CoapplicantIncome)\n",
    "test_in['ApplicantIncome']=pd.to_numeric(test_in.ApplicantIncome)\n",
    "finaly_predicted=model.predict(test_in)\n",
    "finaly_predicted  = [1 if y>=0.5 else 0 for y in finaly_predicted]\n",
    "finaly_predicted"
   ]
  },
  {
   "cell_type": "code",
   "execution_count": null,
   "metadata": {},
   "outputs": [],
   "source": []
  }
 ],
 "metadata": {
  "kernelspec": {
   "display_name": "Python 3",
   "language": "python",
   "name": "python3"
  },
  "language_info": {
   "codemirror_mode": {
    "name": "ipython",
    "version": 3
   },
   "file_extension": ".py",
   "mimetype": "text/x-python",
   "name": "python",
   "nbconvert_exporter": "python",
   "pygments_lexer": "ipython3",
   "version": "3.8.6"
  }
 },
 "nbformat": 4,
 "nbformat_minor": 4
}
